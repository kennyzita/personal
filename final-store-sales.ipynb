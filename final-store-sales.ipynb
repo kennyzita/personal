{
 "cells": [
  {
   "cell_type": "markdown",
   "metadata": {},
   "source": [
    "# Analyzing and Predicting Store Sales\n",
    "\n",
    "\n",
    "\n"
   ]
  },
  {
   "cell_type": "markdown",
   "metadata": {},
   "source": [
    "# Loading the Dataset"
   ]
  },
  {
   "cell_type": "code",
   "execution_count": 1,
   "metadata": {},
   "outputs": [
    {
     "name": "stdout",
     "output_type": "stream",
     "text": [
      "Keys of stores data: Index(['Store', 'Type', 'Size'], dtype='object')\n"
     ]
    }
   ],
   "source": [
    "import pandas as pd\n",
    "import numpy as np\n",
    "import matplotlib.pyplot as plt\n",
    "import seaborn as sns\n",
    "import time\n",
    "# load the dataset\n",
    "stores = pd.read_csv('stores.csv')\n",
    "print(\"Keys of stores data: {}\".format(stores.keys()))"
   ]
  },
  {
   "cell_type": "code",
   "execution_count": 2,
   "metadata": {},
   "outputs": [
    {
     "data": {
      "text/html": [
       "<div>\n",
       "<style scoped>\n",
       "    .dataframe tbody tr th:only-of-type {\n",
       "        vertical-align: middle;\n",
       "    }\n",
       "\n",
       "    .dataframe tbody tr th {\n",
       "        vertical-align: top;\n",
       "    }\n",
       "\n",
       "    .dataframe thead th {\n",
       "        text-align: right;\n",
       "    }\n",
       "</style>\n",
       "<table border=\"1\" class=\"dataframe\">\n",
       "  <thead>\n",
       "    <tr style=\"text-align: right;\">\n",
       "      <th></th>\n",
       "      <th>Store</th>\n",
       "      <th>Type</th>\n",
       "      <th>Size</th>\n",
       "    </tr>\n",
       "  </thead>\n",
       "  <tbody>\n",
       "    <tr>\n",
       "      <th>0</th>\n",
       "      <td>1</td>\n",
       "      <td>A</td>\n",
       "      <td>151315</td>\n",
       "    </tr>\n",
       "    <tr>\n",
       "      <th>1</th>\n",
       "      <td>2</td>\n",
       "      <td>A</td>\n",
       "      <td>202307</td>\n",
       "    </tr>\n",
       "    <tr>\n",
       "      <th>2</th>\n",
       "      <td>3</td>\n",
       "      <td>B</td>\n",
       "      <td>37392</td>\n",
       "    </tr>\n",
       "    <tr>\n",
       "      <th>3</th>\n",
       "      <td>4</td>\n",
       "      <td>A</td>\n",
       "      <td>205863</td>\n",
       "    </tr>\n",
       "    <tr>\n",
       "      <th>4</th>\n",
       "      <td>5</td>\n",
       "      <td>B</td>\n",
       "      <td>34875</td>\n",
       "    </tr>\n",
       "  </tbody>\n",
       "</table>\n",
       "</div>"
      ],
      "text/plain": [
       "   Store Type    Size\n",
       "0      1    A  151315\n",
       "1      2    A  202307\n",
       "2      3    B   37392\n",
       "3      4    A  205863\n",
       "4      5    B   34875"
      ]
     },
     "execution_count": 2,
     "metadata": {},
     "output_type": "execute_result"
    }
   ],
   "source": [
    "stores.head()"
   ]
  },
  {
   "cell_type": "code",
   "execution_count": 3,
   "metadata": {},
   "outputs": [
    {
     "name": "stdout",
     "output_type": "stream",
     "text": [
      "Keys of the data: Index(['Store', 'Dept', 'Date', 'Weekly_Sales', 'IsHoliday'], dtype='object')\n"
     ]
    }
   ],
   "source": [
    "train = pd.read_csv('data.csv')\n",
    "print(\"Keys of the data: {}\".format(train.keys()))"
   ]
  },
  {
   "cell_type": "code",
   "execution_count": 4,
   "metadata": {},
   "outputs": [
    {
     "data": {
      "text/html": [
       "<div>\n",
       "<style scoped>\n",
       "    .dataframe tbody tr th:only-of-type {\n",
       "        vertical-align: middle;\n",
       "    }\n",
       "\n",
       "    .dataframe tbody tr th {\n",
       "        vertical-align: top;\n",
       "    }\n",
       "\n",
       "    .dataframe thead th {\n",
       "        text-align: right;\n",
       "    }\n",
       "</style>\n",
       "<table border=\"1\" class=\"dataframe\">\n",
       "  <thead>\n",
       "    <tr style=\"text-align: right;\">\n",
       "      <th></th>\n",
       "      <th>Store</th>\n",
       "      <th>Dept</th>\n",
       "      <th>Date</th>\n",
       "      <th>Weekly_Sales</th>\n",
       "      <th>IsHoliday</th>\n",
       "    </tr>\n",
       "  </thead>\n",
       "  <tbody>\n",
       "    <tr>\n",
       "      <th>0</th>\n",
       "      <td>1</td>\n",
       "      <td>1</td>\n",
       "      <td>2010-02-05</td>\n",
       "      <td>24924.50</td>\n",
       "      <td>False</td>\n",
       "    </tr>\n",
       "    <tr>\n",
       "      <th>1</th>\n",
       "      <td>1</td>\n",
       "      <td>1</td>\n",
       "      <td>2010-02-12</td>\n",
       "      <td>46039.49</td>\n",
       "      <td>True</td>\n",
       "    </tr>\n",
       "    <tr>\n",
       "      <th>2</th>\n",
       "      <td>1</td>\n",
       "      <td>1</td>\n",
       "      <td>2010-02-19</td>\n",
       "      <td>41595.55</td>\n",
       "      <td>False</td>\n",
       "    </tr>\n",
       "    <tr>\n",
       "      <th>3</th>\n",
       "      <td>1</td>\n",
       "      <td>1</td>\n",
       "      <td>2010-02-26</td>\n",
       "      <td>19403.54</td>\n",
       "      <td>False</td>\n",
       "    </tr>\n",
       "    <tr>\n",
       "      <th>4</th>\n",
       "      <td>1</td>\n",
       "      <td>1</td>\n",
       "      <td>2010-03-05</td>\n",
       "      <td>21827.90</td>\n",
       "      <td>False</td>\n",
       "    </tr>\n",
       "  </tbody>\n",
       "</table>\n",
       "</div>"
      ],
      "text/plain": [
       "   Store  Dept        Date  Weekly_Sales  IsHoliday\n",
       "0      1     1  2010-02-05      24924.50      False\n",
       "1      1     1  2010-02-12      46039.49       True\n",
       "2      1     1  2010-02-19      41595.55      False\n",
       "3      1     1  2010-02-26      19403.54      False\n",
       "4      1     1  2010-03-05      21827.90      False"
      ]
     },
     "execution_count": 4,
     "metadata": {},
     "output_type": "execute_result"
    }
   ],
   "source": [
    "train.head()"
   ]
  },
  {
   "cell_type": "code",
   "execution_count": 5,
   "metadata": {},
   "outputs": [
    {
     "name": "stdout",
     "output_type": "stream",
     "text": [
      "Keys of features data: Index(['Store', 'Date', 'Temperature', 'Fuel_Price', 'MarkDown1', 'MarkDown2',\n",
      "       'MarkDown3', 'MarkDown4', 'MarkDown5', 'CPI', 'Unemployment',\n",
      "       'IsHoliday'],\n",
      "      dtype='object')\n"
     ]
    }
   ],
   "source": [
    "features = pd.read_csv('features.csv')\n",
    "print(\"Keys of features data: {}\".format(features.keys()))"
   ]
  },
  {
   "cell_type": "code",
   "execution_count": 6,
   "metadata": {
    "scrolled": true
   },
   "outputs": [
    {
     "data": {
      "text/html": [
       "<div>\n",
       "<style scoped>\n",
       "    .dataframe tbody tr th:only-of-type {\n",
       "        vertical-align: middle;\n",
       "    }\n",
       "\n",
       "    .dataframe tbody tr th {\n",
       "        vertical-align: top;\n",
       "    }\n",
       "\n",
       "    .dataframe thead th {\n",
       "        text-align: right;\n",
       "    }\n",
       "</style>\n",
       "<table border=\"1\" class=\"dataframe\">\n",
       "  <thead>\n",
       "    <tr style=\"text-align: right;\">\n",
       "      <th></th>\n",
       "      <th>Store</th>\n",
       "      <th>Date</th>\n",
       "      <th>Temperature</th>\n",
       "      <th>Fuel_Price</th>\n",
       "      <th>MarkDown1</th>\n",
       "      <th>MarkDown2</th>\n",
       "      <th>MarkDown3</th>\n",
       "      <th>MarkDown4</th>\n",
       "      <th>MarkDown5</th>\n",
       "      <th>CPI</th>\n",
       "      <th>Unemployment</th>\n",
       "      <th>IsHoliday</th>\n",
       "    </tr>\n",
       "  </thead>\n",
       "  <tbody>\n",
       "    <tr>\n",
       "      <th>0</th>\n",
       "      <td>1</td>\n",
       "      <td>2010-02-05</td>\n",
       "      <td>42.31</td>\n",
       "      <td>2.572</td>\n",
       "      <td>NaN</td>\n",
       "      <td>NaN</td>\n",
       "      <td>NaN</td>\n",
       "      <td>NaN</td>\n",
       "      <td>NaN</td>\n",
       "      <td>211.096358</td>\n",
       "      <td>8.106</td>\n",
       "      <td>False</td>\n",
       "    </tr>\n",
       "    <tr>\n",
       "      <th>1</th>\n",
       "      <td>1</td>\n",
       "      <td>2010-02-12</td>\n",
       "      <td>38.51</td>\n",
       "      <td>2.548</td>\n",
       "      <td>NaN</td>\n",
       "      <td>NaN</td>\n",
       "      <td>NaN</td>\n",
       "      <td>NaN</td>\n",
       "      <td>NaN</td>\n",
       "      <td>211.242170</td>\n",
       "      <td>8.106</td>\n",
       "      <td>True</td>\n",
       "    </tr>\n",
       "    <tr>\n",
       "      <th>2</th>\n",
       "      <td>1</td>\n",
       "      <td>2010-02-19</td>\n",
       "      <td>39.93</td>\n",
       "      <td>2.514</td>\n",
       "      <td>NaN</td>\n",
       "      <td>NaN</td>\n",
       "      <td>NaN</td>\n",
       "      <td>NaN</td>\n",
       "      <td>NaN</td>\n",
       "      <td>211.289143</td>\n",
       "      <td>8.106</td>\n",
       "      <td>False</td>\n",
       "    </tr>\n",
       "    <tr>\n",
       "      <th>3</th>\n",
       "      <td>1</td>\n",
       "      <td>2010-02-26</td>\n",
       "      <td>46.63</td>\n",
       "      <td>2.561</td>\n",
       "      <td>NaN</td>\n",
       "      <td>NaN</td>\n",
       "      <td>NaN</td>\n",
       "      <td>NaN</td>\n",
       "      <td>NaN</td>\n",
       "      <td>211.319643</td>\n",
       "      <td>8.106</td>\n",
       "      <td>False</td>\n",
       "    </tr>\n",
       "    <tr>\n",
       "      <th>4</th>\n",
       "      <td>1</td>\n",
       "      <td>2010-03-05</td>\n",
       "      <td>46.50</td>\n",
       "      <td>2.625</td>\n",
       "      <td>NaN</td>\n",
       "      <td>NaN</td>\n",
       "      <td>NaN</td>\n",
       "      <td>NaN</td>\n",
       "      <td>NaN</td>\n",
       "      <td>211.350143</td>\n",
       "      <td>8.106</td>\n",
       "      <td>False</td>\n",
       "    </tr>\n",
       "  </tbody>\n",
       "</table>\n",
       "</div>"
      ],
      "text/plain": [
       "   Store        Date  Temperature  Fuel_Price  MarkDown1  MarkDown2  \\\n",
       "0      1  2010-02-05        42.31       2.572        NaN        NaN   \n",
       "1      1  2010-02-12        38.51       2.548        NaN        NaN   \n",
       "2      1  2010-02-19        39.93       2.514        NaN        NaN   \n",
       "3      1  2010-02-26        46.63       2.561        NaN        NaN   \n",
       "4      1  2010-03-05        46.50       2.625        NaN        NaN   \n",
       "\n",
       "   MarkDown3  MarkDown4  MarkDown5         CPI  Unemployment  IsHoliday  \n",
       "0        NaN        NaN        NaN  211.096358         8.106      False  \n",
       "1        NaN        NaN        NaN  211.242170         8.106       True  \n",
       "2        NaN        NaN        NaN  211.289143         8.106      False  \n",
       "3        NaN        NaN        NaN  211.319643         8.106      False  \n",
       "4        NaN        NaN        NaN  211.350143         8.106      False  "
      ]
     },
     "execution_count": 6,
     "metadata": {},
     "output_type": "execute_result"
    }
   ],
   "source": [
    "features.head()"
   ]
  },
  {
   "cell_type": "code",
   "execution_count": 7,
   "metadata": {},
   "outputs": [
    {
     "name": "stdout",
     "output_type": "stream",
     "text": [
      "Data length: 421570\n",
      "Feature data length: 8190\n",
      "Stores data length: 45\n"
     ]
    }
   ],
   "source": [
    "print(\"Data length: {}\".format(len(train)))\n",
    "print(\"Feature data length: {}\".format(len(features)))\n",
    "print(\"Stores data length: {}\".format(len(stores)))"
   ]
  },
  {
   "cell_type": "code",
   "execution_count": 8,
   "metadata": {},
   "outputs": [
    {
     "data": {
      "text/html": [
       "<div>\n",
       "<style scoped>\n",
       "    .dataframe tbody tr th:only-of-type {\n",
       "        vertical-align: middle;\n",
       "    }\n",
       "\n",
       "    .dataframe tbody tr th {\n",
       "        vertical-align: top;\n",
       "    }\n",
       "\n",
       "    .dataframe thead th {\n",
       "        text-align: right;\n",
       "    }\n",
       "</style>\n",
       "<table border=\"1\" class=\"dataframe\">\n",
       "  <thead>\n",
       "    <tr style=\"text-align: right;\">\n",
       "      <th></th>\n",
       "      <th>Store</th>\n",
       "      <th>Dept</th>\n",
       "      <th>Date</th>\n",
       "      <th>Weekly_Sales</th>\n",
       "      <th>IsHoliday</th>\n",
       "      <th>Type</th>\n",
       "      <th>Size</th>\n",
       "      <th>Temperature</th>\n",
       "      <th>Fuel_Price</th>\n",
       "      <th>MarkDown1</th>\n",
       "      <th>MarkDown2</th>\n",
       "      <th>MarkDown3</th>\n",
       "      <th>MarkDown4</th>\n",
       "      <th>MarkDown5</th>\n",
       "      <th>CPI</th>\n",
       "      <th>Unemployment</th>\n",
       "    </tr>\n",
       "  </thead>\n",
       "  <tbody>\n",
       "    <tr>\n",
       "      <th>0</th>\n",
       "      <td>1</td>\n",
       "      <td>1</td>\n",
       "      <td>2010-02-05</td>\n",
       "      <td>24924.50</td>\n",
       "      <td>False</td>\n",
       "      <td>A</td>\n",
       "      <td>151315</td>\n",
       "      <td>42.31</td>\n",
       "      <td>2.572</td>\n",
       "      <td>NaN</td>\n",
       "      <td>NaN</td>\n",
       "      <td>NaN</td>\n",
       "      <td>NaN</td>\n",
       "      <td>NaN</td>\n",
       "      <td>211.096358</td>\n",
       "      <td>8.106</td>\n",
       "    </tr>\n",
       "    <tr>\n",
       "      <th>1</th>\n",
       "      <td>1</td>\n",
       "      <td>2</td>\n",
       "      <td>2010-02-05</td>\n",
       "      <td>50605.27</td>\n",
       "      <td>False</td>\n",
       "      <td>A</td>\n",
       "      <td>151315</td>\n",
       "      <td>42.31</td>\n",
       "      <td>2.572</td>\n",
       "      <td>NaN</td>\n",
       "      <td>NaN</td>\n",
       "      <td>NaN</td>\n",
       "      <td>NaN</td>\n",
       "      <td>NaN</td>\n",
       "      <td>211.096358</td>\n",
       "      <td>8.106</td>\n",
       "    </tr>\n",
       "    <tr>\n",
       "      <th>2</th>\n",
       "      <td>1</td>\n",
       "      <td>3</td>\n",
       "      <td>2010-02-05</td>\n",
       "      <td>13740.12</td>\n",
       "      <td>False</td>\n",
       "      <td>A</td>\n",
       "      <td>151315</td>\n",
       "      <td>42.31</td>\n",
       "      <td>2.572</td>\n",
       "      <td>NaN</td>\n",
       "      <td>NaN</td>\n",
       "      <td>NaN</td>\n",
       "      <td>NaN</td>\n",
       "      <td>NaN</td>\n",
       "      <td>211.096358</td>\n",
       "      <td>8.106</td>\n",
       "    </tr>\n",
       "    <tr>\n",
       "      <th>3</th>\n",
       "      <td>1</td>\n",
       "      <td>4</td>\n",
       "      <td>2010-02-05</td>\n",
       "      <td>39954.04</td>\n",
       "      <td>False</td>\n",
       "      <td>A</td>\n",
       "      <td>151315</td>\n",
       "      <td>42.31</td>\n",
       "      <td>2.572</td>\n",
       "      <td>NaN</td>\n",
       "      <td>NaN</td>\n",
       "      <td>NaN</td>\n",
       "      <td>NaN</td>\n",
       "      <td>NaN</td>\n",
       "      <td>211.096358</td>\n",
       "      <td>8.106</td>\n",
       "    </tr>\n",
       "    <tr>\n",
       "      <th>4</th>\n",
       "      <td>1</td>\n",
       "      <td>5</td>\n",
       "      <td>2010-02-05</td>\n",
       "      <td>32229.38</td>\n",
       "      <td>False</td>\n",
       "      <td>A</td>\n",
       "      <td>151315</td>\n",
       "      <td>42.31</td>\n",
       "      <td>2.572</td>\n",
       "      <td>NaN</td>\n",
       "      <td>NaN</td>\n",
       "      <td>NaN</td>\n",
       "      <td>NaN</td>\n",
       "      <td>NaN</td>\n",
       "      <td>211.096358</td>\n",
       "      <td>8.106</td>\n",
       "    </tr>\n",
       "  </tbody>\n",
       "</table>\n",
       "</div>"
      ],
      "text/plain": [
       "   Store  Dept        Date  Weekly_Sales  IsHoliday Type    Size  Temperature  \\\n",
       "0      1     1  2010-02-05      24924.50      False    A  151315        42.31   \n",
       "1      1     2  2010-02-05      50605.27      False    A  151315        42.31   \n",
       "2      1     3  2010-02-05      13740.12      False    A  151315        42.31   \n",
       "3      1     4  2010-02-05      39954.04      False    A  151315        42.31   \n",
       "4      1     5  2010-02-05      32229.38      False    A  151315        42.31   \n",
       "\n",
       "   Fuel_Price  MarkDown1  MarkDown2  MarkDown3  MarkDown4  MarkDown5  \\\n",
       "0       2.572        NaN        NaN        NaN        NaN        NaN   \n",
       "1       2.572        NaN        NaN        NaN        NaN        NaN   \n",
       "2       2.572        NaN        NaN        NaN        NaN        NaN   \n",
       "3       2.572        NaN        NaN        NaN        NaN        NaN   \n",
       "4       2.572        NaN        NaN        NaN        NaN        NaN   \n",
       "\n",
       "          CPI  Unemployment  \n",
       "0  211.096358         8.106  \n",
       "1  211.096358         8.106  \n",
       "2  211.096358         8.106  \n",
       "3  211.096358         8.106  \n",
       "4  211.096358         8.106  "
      ]
     },
     "execution_count": 8,
     "metadata": {},
     "output_type": "execute_result"
    }
   ],
   "source": [
    "df = pd.merge(train,stores)\n",
    "df = pd.merge(df,features)\n",
    "df.head()"
   ]
  },
  {
   "cell_type": "code",
   "execution_count": 9,
   "metadata": {},
   "outputs": [
    {
     "data": {
      "text/html": [
       "<div>\n",
       "<style scoped>\n",
       "    .dataframe tbody tr th:only-of-type {\n",
       "        vertical-align: middle;\n",
       "    }\n",
       "\n",
       "    .dataframe tbody tr th {\n",
       "        vertical-align: top;\n",
       "    }\n",
       "\n",
       "    .dataframe thead th {\n",
       "        text-align: right;\n",
       "    }\n",
       "</style>\n",
       "<table border=\"1\" class=\"dataframe\">\n",
       "  <thead>\n",
       "    <tr style=\"text-align: right;\">\n",
       "      <th></th>\n",
       "      <th>Store</th>\n",
       "      <th>Dept</th>\n",
       "      <th>Date</th>\n",
       "      <th>Weekly_Sales</th>\n",
       "      <th>IsHoliday</th>\n",
       "      <th>Type</th>\n",
       "      <th>Size</th>\n",
       "      <th>Temperature</th>\n",
       "      <th>Fuel_Price</th>\n",
       "      <th>MarkDown1</th>\n",
       "      <th>MarkDown2</th>\n",
       "      <th>MarkDown3</th>\n",
       "      <th>MarkDown4</th>\n",
       "      <th>MarkDown5</th>\n",
       "      <th>CPI</th>\n",
       "      <th>Unemployment</th>\n",
       "    </tr>\n",
       "  </thead>\n",
       "  <tbody>\n",
       "    <tr>\n",
       "      <th>421565</th>\n",
       "      <td>45</td>\n",
       "      <td>93</td>\n",
       "      <td>2012-10-26</td>\n",
       "      <td>2487.80</td>\n",
       "      <td>False</td>\n",
       "      <td>B</td>\n",
       "      <td>118221</td>\n",
       "      <td>58.85</td>\n",
       "      <td>3.882</td>\n",
       "      <td>4018.91</td>\n",
       "      <td>58.08</td>\n",
       "      <td>100.0</td>\n",
       "      <td>211.94</td>\n",
       "      <td>858.33</td>\n",
       "      <td>192.308899</td>\n",
       "      <td>8.667</td>\n",
       "    </tr>\n",
       "    <tr>\n",
       "      <th>421566</th>\n",
       "      <td>45</td>\n",
       "      <td>94</td>\n",
       "      <td>2012-10-26</td>\n",
       "      <td>5203.31</td>\n",
       "      <td>False</td>\n",
       "      <td>B</td>\n",
       "      <td>118221</td>\n",
       "      <td>58.85</td>\n",
       "      <td>3.882</td>\n",
       "      <td>4018.91</td>\n",
       "      <td>58.08</td>\n",
       "      <td>100.0</td>\n",
       "      <td>211.94</td>\n",
       "      <td>858.33</td>\n",
       "      <td>192.308899</td>\n",
       "      <td>8.667</td>\n",
       "    </tr>\n",
       "    <tr>\n",
       "      <th>421567</th>\n",
       "      <td>45</td>\n",
       "      <td>95</td>\n",
       "      <td>2012-10-26</td>\n",
       "      <td>56017.47</td>\n",
       "      <td>False</td>\n",
       "      <td>B</td>\n",
       "      <td>118221</td>\n",
       "      <td>58.85</td>\n",
       "      <td>3.882</td>\n",
       "      <td>4018.91</td>\n",
       "      <td>58.08</td>\n",
       "      <td>100.0</td>\n",
       "      <td>211.94</td>\n",
       "      <td>858.33</td>\n",
       "      <td>192.308899</td>\n",
       "      <td>8.667</td>\n",
       "    </tr>\n",
       "    <tr>\n",
       "      <th>421568</th>\n",
       "      <td>45</td>\n",
       "      <td>97</td>\n",
       "      <td>2012-10-26</td>\n",
       "      <td>6817.48</td>\n",
       "      <td>False</td>\n",
       "      <td>B</td>\n",
       "      <td>118221</td>\n",
       "      <td>58.85</td>\n",
       "      <td>3.882</td>\n",
       "      <td>4018.91</td>\n",
       "      <td>58.08</td>\n",
       "      <td>100.0</td>\n",
       "      <td>211.94</td>\n",
       "      <td>858.33</td>\n",
       "      <td>192.308899</td>\n",
       "      <td>8.667</td>\n",
       "    </tr>\n",
       "    <tr>\n",
       "      <th>421569</th>\n",
       "      <td>45</td>\n",
       "      <td>98</td>\n",
       "      <td>2012-10-26</td>\n",
       "      <td>1076.80</td>\n",
       "      <td>False</td>\n",
       "      <td>B</td>\n",
       "      <td>118221</td>\n",
       "      <td>58.85</td>\n",
       "      <td>3.882</td>\n",
       "      <td>4018.91</td>\n",
       "      <td>58.08</td>\n",
       "      <td>100.0</td>\n",
       "      <td>211.94</td>\n",
       "      <td>858.33</td>\n",
       "      <td>192.308899</td>\n",
       "      <td>8.667</td>\n",
       "    </tr>\n",
       "  </tbody>\n",
       "</table>\n",
       "</div>"
      ],
      "text/plain": [
       "        Store  Dept        Date  Weekly_Sales  IsHoliday Type    Size  \\\n",
       "421565     45    93  2012-10-26       2487.80      False    B  118221   \n",
       "421566     45    94  2012-10-26       5203.31      False    B  118221   \n",
       "421567     45    95  2012-10-26      56017.47      False    B  118221   \n",
       "421568     45    97  2012-10-26       6817.48      False    B  118221   \n",
       "421569     45    98  2012-10-26       1076.80      False    B  118221   \n",
       "\n",
       "        Temperature  Fuel_Price  MarkDown1  MarkDown2  MarkDown3  MarkDown4  \\\n",
       "421565        58.85       3.882    4018.91      58.08      100.0     211.94   \n",
       "421566        58.85       3.882    4018.91      58.08      100.0     211.94   \n",
       "421567        58.85       3.882    4018.91      58.08      100.0     211.94   \n",
       "421568        58.85       3.882    4018.91      58.08      100.0     211.94   \n",
       "421569        58.85       3.882    4018.91      58.08      100.0     211.94   \n",
       "\n",
       "        MarkDown5         CPI  Unemployment  \n",
       "421565     858.33  192.308899         8.667  \n",
       "421566     858.33  192.308899         8.667  \n",
       "421567     858.33  192.308899         8.667  \n",
       "421568     858.33  192.308899         8.667  \n",
       "421569     858.33  192.308899         8.667  "
      ]
     },
     "execution_count": 9,
     "metadata": {},
     "output_type": "execute_result"
    }
   ],
   "source": [
    "df.tail() # Get an overview of the data"
   ]
  },
  {
   "cell_type": "code",
   "execution_count": 10,
   "metadata": {},
   "outputs": [
    {
     "data": {
      "text/html": [
       "<div>\n",
       "<style scoped>\n",
       "    .dataframe tbody tr th:only-of-type {\n",
       "        vertical-align: middle;\n",
       "    }\n",
       "\n",
       "    .dataframe tbody tr th {\n",
       "        vertical-align: top;\n",
       "    }\n",
       "\n",
       "    .dataframe thead th {\n",
       "        text-align: right;\n",
       "    }\n",
       "</style>\n",
       "<table border=\"1\" class=\"dataframe\">\n",
       "  <thead>\n",
       "    <tr style=\"text-align: right;\">\n",
       "      <th></th>\n",
       "      <th>Store</th>\n",
       "      <th>Dept</th>\n",
       "      <th>Weekly_Sales</th>\n",
       "      <th>Size</th>\n",
       "      <th>Temperature</th>\n",
       "      <th>Fuel_Price</th>\n",
       "      <th>MarkDown1</th>\n",
       "      <th>MarkDown2</th>\n",
       "      <th>MarkDown3</th>\n",
       "      <th>MarkDown4</th>\n",
       "      <th>MarkDown5</th>\n",
       "      <th>CPI</th>\n",
       "      <th>Unemployment</th>\n",
       "    </tr>\n",
       "  </thead>\n",
       "  <tbody>\n",
       "    <tr>\n",
       "      <th>count</th>\n",
       "      <td>421570.000000</td>\n",
       "      <td>421570.000000</td>\n",
       "      <td>421570.000000</td>\n",
       "      <td>421570.000000</td>\n",
       "      <td>421570.000000</td>\n",
       "      <td>421570.000000</td>\n",
       "      <td>150681.000000</td>\n",
       "      <td>111248.000000</td>\n",
       "      <td>137091.000000</td>\n",
       "      <td>134967.000000</td>\n",
       "      <td>151432.000000</td>\n",
       "      <td>421570.000000</td>\n",
       "      <td>421570.000000</td>\n",
       "    </tr>\n",
       "    <tr>\n",
       "      <th>mean</th>\n",
       "      <td>22.200546</td>\n",
       "      <td>44.260317</td>\n",
       "      <td>15981.258123</td>\n",
       "      <td>136727.915739</td>\n",
       "      <td>60.090059</td>\n",
       "      <td>3.361027</td>\n",
       "      <td>7246.420196</td>\n",
       "      <td>3334.628621</td>\n",
       "      <td>1439.421384</td>\n",
       "      <td>3383.168256</td>\n",
       "      <td>4628.975079</td>\n",
       "      <td>171.201947</td>\n",
       "      <td>7.960289</td>\n",
       "    </tr>\n",
       "    <tr>\n",
       "      <th>std</th>\n",
       "      <td>12.785297</td>\n",
       "      <td>30.492054</td>\n",
       "      <td>22711.183519</td>\n",
       "      <td>60980.583328</td>\n",
       "      <td>18.447931</td>\n",
       "      <td>0.458515</td>\n",
       "      <td>8291.221345</td>\n",
       "      <td>9475.357325</td>\n",
       "      <td>9623.078290</td>\n",
       "      <td>6292.384031</td>\n",
       "      <td>5962.887455</td>\n",
       "      <td>39.159276</td>\n",
       "      <td>1.863296</td>\n",
       "    </tr>\n",
       "    <tr>\n",
       "      <th>min</th>\n",
       "      <td>1.000000</td>\n",
       "      <td>1.000000</td>\n",
       "      <td>-4988.940000</td>\n",
       "      <td>34875.000000</td>\n",
       "      <td>-2.060000</td>\n",
       "      <td>2.472000</td>\n",
       "      <td>0.270000</td>\n",
       "      <td>-265.760000</td>\n",
       "      <td>-29.100000</td>\n",
       "      <td>0.220000</td>\n",
       "      <td>135.160000</td>\n",
       "      <td>126.064000</td>\n",
       "      <td>3.879000</td>\n",
       "    </tr>\n",
       "    <tr>\n",
       "      <th>25%</th>\n",
       "      <td>11.000000</td>\n",
       "      <td>18.000000</td>\n",
       "      <td>2079.650000</td>\n",
       "      <td>93638.000000</td>\n",
       "      <td>46.680000</td>\n",
       "      <td>2.933000</td>\n",
       "      <td>2240.270000</td>\n",
       "      <td>41.600000</td>\n",
       "      <td>5.080000</td>\n",
       "      <td>504.220000</td>\n",
       "      <td>1878.440000</td>\n",
       "      <td>132.022667</td>\n",
       "      <td>6.891000</td>\n",
       "    </tr>\n",
       "    <tr>\n",
       "      <th>50%</th>\n",
       "      <td>22.000000</td>\n",
       "      <td>37.000000</td>\n",
       "      <td>7612.030000</td>\n",
       "      <td>140167.000000</td>\n",
       "      <td>62.090000</td>\n",
       "      <td>3.452000</td>\n",
       "      <td>5347.450000</td>\n",
       "      <td>192.000000</td>\n",
       "      <td>24.600000</td>\n",
       "      <td>1481.310000</td>\n",
       "      <td>3359.450000</td>\n",
       "      <td>182.318780</td>\n",
       "      <td>7.866000</td>\n",
       "    </tr>\n",
       "    <tr>\n",
       "      <th>75%</th>\n",
       "      <td>33.000000</td>\n",
       "      <td>74.000000</td>\n",
       "      <td>20205.852500</td>\n",
       "      <td>202505.000000</td>\n",
       "      <td>74.280000</td>\n",
       "      <td>3.738000</td>\n",
       "      <td>9210.900000</td>\n",
       "      <td>1926.940000</td>\n",
       "      <td>103.990000</td>\n",
       "      <td>3595.040000</td>\n",
       "      <td>5563.800000</td>\n",
       "      <td>212.416993</td>\n",
       "      <td>8.572000</td>\n",
       "    </tr>\n",
       "    <tr>\n",
       "      <th>max</th>\n",
       "      <td>45.000000</td>\n",
       "      <td>99.000000</td>\n",
       "      <td>693099.360000</td>\n",
       "      <td>219622.000000</td>\n",
       "      <td>100.140000</td>\n",
       "      <td>4.468000</td>\n",
       "      <td>88646.760000</td>\n",
       "      <td>104519.540000</td>\n",
       "      <td>141630.610000</td>\n",
       "      <td>67474.850000</td>\n",
       "      <td>108519.280000</td>\n",
       "      <td>227.232807</td>\n",
       "      <td>14.313000</td>\n",
       "    </tr>\n",
       "  </tbody>\n",
       "</table>\n",
       "</div>"
      ],
      "text/plain": [
       "               Store           Dept   Weekly_Sales           Size  \\\n",
       "count  421570.000000  421570.000000  421570.000000  421570.000000   \n",
       "mean       22.200546      44.260317   15981.258123  136727.915739   \n",
       "std        12.785297      30.492054   22711.183519   60980.583328   \n",
       "min         1.000000       1.000000   -4988.940000   34875.000000   \n",
       "25%        11.000000      18.000000    2079.650000   93638.000000   \n",
       "50%        22.000000      37.000000    7612.030000  140167.000000   \n",
       "75%        33.000000      74.000000   20205.852500  202505.000000   \n",
       "max        45.000000      99.000000  693099.360000  219622.000000   \n",
       "\n",
       "         Temperature     Fuel_Price      MarkDown1      MarkDown2  \\\n",
       "count  421570.000000  421570.000000  150681.000000  111248.000000   \n",
       "mean       60.090059       3.361027    7246.420196    3334.628621   \n",
       "std        18.447931       0.458515    8291.221345    9475.357325   \n",
       "min        -2.060000       2.472000       0.270000    -265.760000   \n",
       "25%        46.680000       2.933000    2240.270000      41.600000   \n",
       "50%        62.090000       3.452000    5347.450000     192.000000   \n",
       "75%        74.280000       3.738000    9210.900000    1926.940000   \n",
       "max       100.140000       4.468000   88646.760000  104519.540000   \n",
       "\n",
       "           MarkDown3      MarkDown4      MarkDown5            CPI  \\\n",
       "count  137091.000000  134967.000000  151432.000000  421570.000000   \n",
       "mean     1439.421384    3383.168256    4628.975079     171.201947   \n",
       "std      9623.078290    6292.384031    5962.887455      39.159276   \n",
       "min       -29.100000       0.220000     135.160000     126.064000   \n",
       "25%         5.080000     504.220000    1878.440000     132.022667   \n",
       "50%        24.600000    1481.310000    3359.450000     182.318780   \n",
       "75%       103.990000    3595.040000    5563.800000     212.416993   \n",
       "max    141630.610000   67474.850000  108519.280000     227.232807   \n",
       "\n",
       "        Unemployment  \n",
       "count  421570.000000  \n",
       "mean        7.960289  \n",
       "std         1.863296  \n",
       "min         3.879000  \n",
       "25%         6.891000  \n",
       "50%         7.866000  \n",
       "75%         8.572000  \n",
       "max        14.313000  "
      ]
     },
     "execution_count": 10,
     "metadata": {},
     "output_type": "execute_result"
    }
   ],
   "source": [
    "df.describe()"
   ]
  },
  {
   "cell_type": "code",
   "execution_count": 11,
   "metadata": {
    "scrolled": true
   },
   "outputs": [
    {
     "name": "stdout",
     "output_type": "stream",
     "text": [
      "Total data length: 421570\n"
     ]
    },
    {
     "data": {
      "text/plain": [
       "Store                0\n",
       "Dept                 0\n",
       "Date                 0\n",
       "Weekly_Sales         0\n",
       "IsHoliday            0\n",
       "Type                 0\n",
       "Size                 0\n",
       "Temperature          0\n",
       "Fuel_Price           0\n",
       "MarkDown1       270889\n",
       "MarkDown2       310322\n",
       "MarkDown3       284479\n",
       "MarkDown4       286603\n",
       "MarkDown5       270138\n",
       "CPI                  0\n",
       "Unemployment         0\n",
       "dtype: int64"
      ]
     },
     "execution_count": 11,
     "metadata": {},
     "output_type": "execute_result"
    }
   ],
   "source": [
    "print(\"Total data length: {}\".format(len(df)))\n",
    "df.isnull().sum()"
   ]
  },
  {
   "cell_type": "code",
   "execution_count": 13,
   "metadata": {},
   "outputs": [],
   "source": [
    "# Here we fill in the null values with 0 or the mean of the column data.\n",
    "# After experimenting with both mean and 0 and running the model, \n",
    "# we did not observe any difference in accuracy or the R^2 value improvement, so we keept the null value replacement with 0\n",
    "#values = {'MarkDown1': df['MarkDown1'].mean(),'MarkDown2': df['MarkDown2'].mean(),'MarkDown3': df['MarkDown3'].mean(),'MarkDown4': df['MarkDown4'].mean(),'MarkDown5': df['MarkDown5'].mean()}\n",
    "#df.fillna(value=values, inplace=True)\n",
    "df.fillna(0, inplace=True)\n",
    "df.isnull().sum()"
   ]
  },
  {
   "cell_type": "code",
   "execution_count": 14,
   "metadata": {},
   "outputs": [
    {
     "data": {
      "text/plain": [
       "Store           0\n",
       "Dept            0\n",
       "Date            0\n",
       "Weekly_Sales    0\n",
       "IsHoliday       0\n",
       "Type            0\n",
       "Size            0\n",
       "Temperature     0\n",
       "Fuel_Price      0\n",
       "MarkDown1       0\n",
       "MarkDown2       0\n",
       "MarkDown3       0\n",
       "MarkDown4       0\n",
       "MarkDown5       0\n",
       "CPI             0\n",
       "Unemployment    0\n",
       "dtype: int64"
      ]
     },
     "execution_count": 14,
     "metadata": {},
     "output_type": "execute_result"
    }
   ],
   "source": [
    "df.isnull().sum()"
   ]
  },
  {
   "cell_type": "code",
   "execution_count": 15,
   "metadata": {},
   "outputs": [
    {
     "name": "stdout",
     "output_type": "stream",
     "text": [
      "headers: ['Store', 'Dept', 'Date', 'Weekly_Sales', 'IsHoliday', 'Type', 'Size', 'Temperature', 'Fuel_Price', 'MarkDown1', 'MarkDown2', 'MarkDown3', 'MarkDown4', 'MarkDown5', 'CPI', 'Unemployment']\n"
     ]
    }
   ],
   "source": [
    "%matplotlib inline\n",
    "import matplotlib\n",
    "import matplotlib.pyplot as plt\n",
    "import seaborn as sns\n",
    "import plotly\n",
    "import plotly.offline as py\n",
    "import plotly.tools as tls\n",
    "import plotly.graph_objs as go\n",
    "import plotly.tools as tls\n",
    "\n",
    "headers = list(df)\n",
    "print(\"headers: {}\".format(headers))"
   ]
  },
  {
   "cell_type": "markdown",
   "metadata": {},
   "source": [
    "## Visualizing the data\n",
    "\n",
    "In this section we will build visualizations by using the Seaborn and the Matplotlib packages.\n",
    "\n",
    "We are interested in finding corelations among various attributes."
   ]
  },
  {
   "cell_type": "code",
   "execution_count": 16,
   "metadata": {},
   "outputs": [
    {
     "name": "stdout",
     "output_type": "stream",
     "text": [
      "Keys of train data: Index(['Store', 'Dept', 'Date', 'Weekly_Sales', 'IsHoliday', 'Type', 'Size',\n",
      "       'Temperature', 'Fuel_Price', 'MarkDown1', 'MarkDown2', 'MarkDown3',\n",
      "       'MarkDown4', 'MarkDown5', 'CPI', 'Unemployment'],\n",
      "      dtype='object')\n"
     ]
    }
   ],
   "source": [
    "print(\"Keys of train data: {}\".format(df.keys()))"
   ]
  },
  {
   "cell_type": "code",
   "execution_count": 17,
   "metadata": {},
   "outputs": [
    {
     "data": {
      "image/png": "[encoded data removed]",
      "text/plain": [
       "<Figure size 1080x1080 with 2 Axes>"
      ]
     },
     "metadata": {},
     "output_type": "display_data"
    }
   ],
   "source": [
    "import seaborn as sns\n",
    "%matplotlib inline\n",
    "\n",
    "attributes = list(df.columns[0:16])\n",
    "plt.figure(figsize=(15,15))\n",
    "sns.heatmap(df[attributes].corr(), annot=True, square=True, cmap='coolwarm')\n",
    "plt.show()"
   ]
  },
  {
   "cell_type": "code",
   "execution_count": 18,
   "metadata": {},
   "outputs": [
    {
     "data": {
      "image/png": "[encoded data removed]",
      "text/plain": [
       "<Figure size 432x288 with 1 Axes>"
      ]
     },
     "metadata": {},
     "output_type": "display_data"
    },
    {
     "data": {
      "image/png": "[encoded data removed]",
      "text/plain": [
       "<Figure size 432x288 with 1 Axes>"
      ]
     },
     "metadata": {},
     "output_type": "display_data"
    },
    {
     "data": {
      "image/png": "[encoded data removed]",
      "text/plain": [
       "<Figure size 432x288 with 1 Axes>"
      ]
     },
     "metadata": {},
     "output_type": "display_data"
    },
    {
     "data": {
      "image/png": "[encoded data removed]",
      "text/plain": [
       "<Figure size 432x288 with 1 Axes>"
      ]
     },
     "metadata": {},
     "output_type": "display_data"
    },
    {
     "data": {
      "image/png": "[encoded data removed]",
      "text/plain": [
       "<Figure size 432x288 with 1 Axes>"
      ]
     },
     "metadata": {},
     "output_type": "display_data"
    },
    {
     "data": {
      "image/png": "[encoded data removed]",
      "text/plain": [
       "<Figure size 432x288 with 1 Axes>"
      ]
     },
     "metadata": {},
     "output_type": "display_data"
    },
    {
     "data": {
      "image/png": "[encoded data removed]",
      "text/plain": [
       "<Figure size 432x288 with 1 Axes>"
      ]
     },
     "metadata": {},
     "output_type": "display_data"
    },
    {
     "data": {
      "image/png": "[encoded data removed]",
      "text/plain": [
       "<Figure size 432x288 with 1 Axes>"
      ]
     },
     "metadata": {},
     "output_type": "display_data"
    },
    {
     "data": {
      "image/png": "[encoded data removed]",
      "text/plain": [
       "<Figure size 432x288 with 1 Axes>"
      ]
     },
     "metadata": {},
     "output_type": "display_data"
    },
    {
     "ename": "NameError",
     "evalue": "name 'le' is not defined",
     "output_type": "error",
     "traceback": [
      "\u001b[0;31m---------------------------------------------------------------------------\u001b[0m",
      "\u001b[0;31mNameError\u001b[0m                                 Traceback (most recent call last)",
      "\u001b[0;32m<ipython-input-18-eff5870ff5d2>\u001b[0m in \u001b[0;36m<module>\u001b[0;34m()\u001b[0m\n\u001b[1;32m     68\u001b[0m \u001b[0;31m# Transform 'IsHoliday' to numeric\u001b[0m\u001b[0;34m\u001b[0m\u001b[0;34m\u001b[0m\u001b[0m\n\u001b[1;32m     69\u001b[0m \u001b[0mdf_t\u001b[0m \u001b[0;34m=\u001b[0m \u001b[0mdf\u001b[0m\u001b[0;34m.\u001b[0m\u001b[0mcopy\u001b[0m\u001b[0;34m(\u001b[0m\u001b[0;34m)\u001b[0m\u001b[0;34m\u001b[0m\u001b[0m\n\u001b[0;32m---> 70\u001b[0;31m \u001b[0mdf_t\u001b[0m\u001b[0;34m[\u001b[0m\u001b[0;34m'IsHoliday'\u001b[0m\u001b[0;34m]\u001b[0m \u001b[0;34m=\u001b[0m \u001b[0mle\u001b[0m\u001b[0;34m.\u001b[0m\u001b[0mfit_transform\u001b[0m\u001b[0;34m(\u001b[0m\u001b[0mdf\u001b[0m\u001b[0;34m[\u001b[0m\u001b[0;34m'IsHoliday'\u001b[0m\u001b[0;34m]\u001b[0m\u001b[0;34m.\u001b[0m\u001b[0mastype\u001b[0m\u001b[0;34m(\u001b[0m\u001b[0;34m'str'\u001b[0m\u001b[0;34m)\u001b[0m\u001b[0;34m)\u001b[0m\u001b[0;34m\u001b[0m\u001b[0m\n\u001b[0m\u001b[1;32m     71\u001b[0m \u001b[0;34m\u001b[0m\u001b[0m\n\u001b[1;32m     72\u001b[0m \u001b[0;34m\u001b[0m\u001b[0m\n",
      "\u001b[0;31mNameError\u001b[0m: name 'le' is not defined"
     ]
    }
   ],
   "source": [
    "plt.scatter(df['Temperature'], df['Weekly_Sales'], color='red')\n",
    "plt.title('Weekly_Sales Vs Temperature', fontsize=14)\n",
    "plt.xlabel('Temperature', fontsize=14)\n",
    "plt.ylabel('Weekly_Sales', fontsize=14)\n",
    "plt.grid(True)\n",
    "plt.show()\n",
    " \n",
    "plt.scatter(df['Fuel_Price'], df['Weekly_Sales'], color='green')\n",
    "plt.title('Weekly_Sales Vs Fuel_Price', fontsize=14)\n",
    "plt.xlabel('Fuel_Price', fontsize=14)\n",
    "plt.ylabel('Weekly_Sales', fontsize=14)\n",
    "plt.grid(True)\n",
    "plt.show()\n",
    "\n",
    "plt.scatter(df['CPI'], df['Weekly_Sales'], color='green')\n",
    "plt.title('Weekly_Sales Vs CPI', fontsize=14)\n",
    "plt.xlabel('CPI', fontsize=14)\n",
    "plt.ylabel('Weekly_Sales', fontsize=14)\n",
    "plt.grid(True)\n",
    "plt.show()\n",
    "\n",
    "plt.scatter(df['Unemployment'], df['Weekly_Sales'], color='red')\n",
    "plt.title('Weekly_Sales Vs Unemployment', fontsize=14)\n",
    "plt.xlabel('Unemployment', fontsize=14)\n",
    "plt.ylabel('Weekly_Sales', fontsize=14)\n",
    "plt.grid(True)\n",
    "plt.show()\n",
    "\n",
    "plt.scatter(df['MarkDown1'], df['Weekly_Sales'], color='green')\n",
    "plt.title('Weekly_Sales Vs MarkDown1', fontsize=14)\n",
    "plt.xlabel('MarkDown1', fontsize=14)\n",
    "plt.ylabel('Weekly_Sales', fontsize=14)\n",
    "plt.grid(True)\n",
    "plt.show()\n",
    "\n",
    "\n",
    "plt.scatter(df['MarkDown2'], df['Weekly_Sales'], color='red')\n",
    "plt.title('Weekly_Sales Vs MarkDown2', fontsize=14)\n",
    "plt.xlabel('MarkDown2', fontsize=14)\n",
    "plt.ylabel('Weekly_Sales', fontsize=14)\n",
    "plt.grid(True)\n",
    "plt.show()\n",
    "\n",
    "\n",
    "plt.scatter(df['MarkDown3'], df['Weekly_Sales'], color='green')\n",
    "plt.title('Weekly_Sales Vs MarkDown3', fontsize=14)\n",
    "plt.xlabel('MarkDown3', fontsize=14)\n",
    "plt.ylabel('Weekly_Sales', fontsize=14)\n",
    "plt.grid(True)\n",
    "plt.show()\n",
    "\n",
    "\n",
    "plt.scatter(df['MarkDown4'], df['Weekly_Sales'], color='red')\n",
    "plt.title('Weekly_Sales Vs MarkDown4', fontsize=14)\n",
    "plt.xlabel('MarkDown4', fontsize=14)\n",
    "plt.ylabel('Weekly_Sales', fontsize=14)\n",
    "plt.grid(True)\n",
    "plt.show()\n",
    "\n",
    "plt.scatter(df['MarkDown5'], df['Weekly_Sales'], color='green')\n",
    "plt.title('Weekly_Sales Vs MarkDown5', fontsize=14)\n",
    "plt.xlabel('MarkDown5', fontsize=14)\n",
    "plt.ylabel('Weekly_Sales', fontsize=14)\n",
    "plt.grid(True)\n",
    "plt.show()\n",
    "\n",
    "\n",
    "# Transform 'IsHoliday' to numeric\n",
    "df_t = df.copy()\n",
    "df_t['IsHoliday'] = le.fit_transform(df['IsHoliday'].astype('str'))\n",
    "\n",
    "\n",
    "plt.scatter(df_t['IsHoliday'], df_t['Weekly_Sales'], color='red')\n",
    "plt.title('Weekly_Sales Vs IsHoliday', fontsize=14)\n",
    "plt.xlabel('IsHoliday', fontsize=14)\n",
    "plt.ylabel('Weekly_Sales', fontsize=14)\n",
    "plt.grid(True)\n",
    "plt.show()\n"
   ]
  },
  {
   "cell_type": "markdown",
   "metadata": {},
   "source": [
    "## Some Utility Functions for Data Transformation"
   ]
  },
  {
   "cell_type": "code",
   "execution_count": 20,
   "metadata": {},
   "outputs": [],
   "source": [
    "from datetime import datetime\n",
    "\n",
    "def getWeek(dateStr):\n",
    "    dt = datetime.strptime(dateStr, \"%Y-%m-%d\")\n",
    "    return dt.isocalendar()[1]\n",
    "\n",
    "def getQuarter(dateStr):\n",
    "    dt = datetime.strptime(dateStr, \"%Y-%m-%d\")\n",
    "    quarter = dt.isocalendar()[1] // 13\n",
    "    if quarter <= 3:\n",
    "        quarter = quarter +1\n",
    "    return quarter\n",
    "\n",
    "def getYear(dateStr):\n",
    "    dt = datetime.strptime(dateStr, \"%Y-%m-%d\")\n",
    "    return dt.isocalendar()[0]\n",
    "\n",
    "#getQuarter(\"2012-12-12\")"
   ]
  },
  {
   "cell_type": "markdown",
   "metadata": {},
   "source": [
    "### Transform Data"
   ]
  },
  {
   "cell_type": "code",
   "execution_count": 21,
   "metadata": {},
   "outputs": [
    {
     "name": "stdout",
     "output_type": "stream",
     "text": [
      " data length: 421570\n",
      " data shape: (421570, 238)\n"
     ]
    }
   ],
   "source": [
    "from sklearn.model_selection import train_test_split\n",
    "from sklearn.preprocessing import LabelEncoder\n",
    "\n",
    "# Transform 'IsHoliday' to numeric\n",
    "dft = df.copy()\n",
    "le = LabelEncoder()\n",
    "dft['IsHoliday'] = le.fit_transform(dft['IsHoliday'].astype('str'))\n",
    "\n",
    "WeekOfYear = []\n",
    "quarter = []\n",
    "year = []\n",
    "for date in dft['Date']:\n",
    "    WeekOfYear.append(getWeek(date))\n",
    "    quarter.append(getQuarter(date))\n",
    "    year.append(getYear(date))\n",
    "\n",
    "dft['WeekOfYear'] = WeekOfYear\n",
    "dft['Quarter'] = quarter\n",
    "dft['Year'] = year\n",
    "\n",
    "dft_ohe = pd.get_dummies(dft, columns=['Type', 'Size', 'Store', 'Dept', 'Quarter', 'WeekOfYear'])\n",
    "#dft_ohe = pd.get_dummies(dft, columns=['Type', 'Size', 'Store', 'Dept', 'Quarter'])\n",
    "\n",
    "print(\" data length: {}\".format(len(dft_ohe)))\n",
    "print(\" data shape: {}\".format(dft_ohe.shape))"
   ]
  },
  {
   "cell_type": "code",
   "execution_count": 22,
   "metadata": {},
   "outputs": [
    {
     "name": "stdout",
     "output_type": "stream",
     "text": [
      "headers: ['Date', 'Weekly_Sales', 'IsHoliday', 'Temperature', 'Fuel_Price', 'MarkDown1', 'MarkDown2', 'MarkDown3', 'MarkDown4', 'MarkDown5', 'CPI', 'Unemployment', 'Year', 'Type_A', 'Type_B', 'Type_C', 'Size_34875', 'Size_37392', 'Size_39690', 'Size_39910', 'Size_41062', 'Size_42988', 'Size_57197', 'Size_70713', 'Size_93188', 'Size_93638', 'Size_103681', 'Size_112238', 'Size_114533', 'Size_118221', 'Size_119557', 'Size_120653', 'Size_123737', 'Size_125833', 'Size_126512', 'Size_128107', 'Size_140167', 'Size_151315', 'Size_152513', 'Size_155078', 'Size_155083', 'Size_158114', 'Size_184109', 'Size_196321', 'Size_200898', 'Size_202307', 'Size_202505', 'Size_203007', 'Size_203742', 'Size_203750', 'Size_203819', 'Size_204184', 'Size_205863', 'Size_206302', 'Size_207499', 'Size_219622', 'Store_1', 'Store_2', 'Store_3', 'Store_4', 'Store_5', 'Store_6', 'Store_7', 'Store_8', 'Store_9', 'Store_10', 'Store_11', 'Store_12', 'Store_13', 'Store_14', 'Store_15', 'Store_16', 'Store_17', 'Store_18', 'Store_19', 'Store_20', 'Store_21', 'Store_22', 'Store_23', 'Store_24', 'Store_25', 'Store_26', 'Store_27', 'Store_28', 'Store_29', 'Store_30', 'Store_31', 'Store_32', 'Store_33', 'Store_34', 'Store_35', 'Store_36', 'Store_37', 'Store_38', 'Store_39', 'Store_40', 'Store_41', 'Store_42', 'Store_43', 'Store_44', 'Store_45', 'Dept_1', 'Dept_2', 'Dept_3', 'Dept_4', 'Dept_5', 'Dept_6', 'Dept_7', 'Dept_8', 'Dept_9', 'Dept_10', 'Dept_11', 'Dept_12', 'Dept_13', 'Dept_14', 'Dept_16', 'Dept_17', 'Dept_18', 'Dept_19', 'Dept_20', 'Dept_21', 'Dept_22', 'Dept_23', 'Dept_24', 'Dept_25', 'Dept_26', 'Dept_27', 'Dept_28', 'Dept_29', 'Dept_30', 'Dept_31', 'Dept_32', 'Dept_33', 'Dept_34', 'Dept_35', 'Dept_36', 'Dept_37', 'Dept_38', 'Dept_39', 'Dept_40', 'Dept_41', 'Dept_42', 'Dept_43', 'Dept_44', 'Dept_45', 'Dept_46', 'Dept_47', 'Dept_48', 'Dept_49', 'Dept_50', 'Dept_51', 'Dept_52', 'Dept_54', 'Dept_55', 'Dept_56', 'Dept_58', 'Dept_59', 'Dept_60', 'Dept_65', 'Dept_67', 'Dept_71', 'Dept_72', 'Dept_74', 'Dept_77', 'Dept_78', 'Dept_79', 'Dept_80', 'Dept_81', 'Dept_82', 'Dept_83', 'Dept_85', 'Dept_87', 'Dept_90', 'Dept_91', 'Dept_92', 'Dept_93', 'Dept_94', 'Dept_95', 'Dept_96', 'Dept_97', 'Dept_98', 'Dept_99', 'Quarter_1', 'Quarter_2', 'Quarter_3', 'Quarter_4', 'WeekOfYear_1', 'WeekOfYear_2', 'WeekOfYear_3', 'WeekOfYear_4', 'WeekOfYear_5', 'WeekOfYear_6', 'WeekOfYear_7', 'WeekOfYear_8', 'WeekOfYear_9', 'WeekOfYear_10', 'WeekOfYear_11', 'WeekOfYear_12', 'WeekOfYear_13', 'WeekOfYear_14', 'WeekOfYear_15', 'WeekOfYear_16', 'WeekOfYear_17', 'WeekOfYear_18', 'WeekOfYear_19', 'WeekOfYear_20', 'WeekOfYear_21', 'WeekOfYear_22', 'WeekOfYear_23', 'WeekOfYear_24', 'WeekOfYear_25', 'WeekOfYear_26', 'WeekOfYear_27', 'WeekOfYear_28', 'WeekOfYear_29', 'WeekOfYear_30', 'WeekOfYear_31', 'WeekOfYear_32', 'WeekOfYear_33', 'WeekOfYear_34', 'WeekOfYear_35', 'WeekOfYear_36', 'WeekOfYear_37', 'WeekOfYear_38', 'WeekOfYear_39', 'WeekOfYear_40', 'WeekOfYear_41', 'WeekOfYear_42', 'WeekOfYear_43', 'WeekOfYear_44', 'WeekOfYear_45', 'WeekOfYear_46', 'WeekOfYear_47', 'WeekOfYear_48', 'WeekOfYear_49', 'WeekOfYear_50', 'WeekOfYear_51', 'WeekOfYear_52']\n"
     ]
    }
   ],
   "source": [
    "headers = list(dft_ohe)\n",
    "print(\"headers: {}\".format(headers))"
   ]
  },
  {
   "cell_type": "markdown",
   "metadata": {},
   "source": [
    "### Split Data in Train and Test"
   ]
  },
  {
   "cell_type": "code",
   "execution_count": 23,
   "metadata": {},
   "outputs": [
    {
     "name": "stdout",
     "output_type": "stream",
     "text": [
      "X_train data length: 316177\n",
      "X_train data shape: (316177, 238)\n",
      "X_test data length: 105393\n",
      "X_test data shape: (105393, 238)\n",
      "y_train data length: 316177\n",
      "y_train data shape: (316177,)\n",
      "y_test data length: 105393\n",
      "y_test data shape: (105393,)\n"
     ]
    }
   ],
   "source": [
    "from sklearn.model_selection import train_test_split\n",
    "from sklearn.preprocessing import LabelEncoder\n",
    "\n",
    "X_train, X_test, y_train, y_test = train_test_split(\n",
    "    dft_ohe, dft_ohe['Weekly_Sales'], random_state=42)\n",
    "\n",
    "print(\"X_train data length: {}\".format(len(X_train)))\n",
    "print(\"X_train data shape: {}\".format(X_train.shape))\n",
    "\n",
    "print(\"X_test data length: {}\".format(len(X_test)))\n",
    "print(\"X_test data shape: {}\".format(X_test.shape))\n",
    "\n",
    "print(\"y_train data length: {}\".format(len(y_train)))\n",
    "print(\"y_train data shape: {}\".format(y_train.shape))\n",
    "\n",
    "print(\"y_test data length: {}\".format(len(y_test)))\n",
    "print(\"y_test data shape: {}\".format(y_test.shape))"
   ]
  },
  {
   "cell_type": "code",
   "execution_count": 24,
   "metadata": {},
   "outputs": [
    {
     "data": {
      "text/html": [
       "<div>\n",
       "<style scoped>\n",
       "    .dataframe tbody tr th:only-of-type {\n",
       "        vertical-align: middle;\n",
       "    }\n",
       "\n",
       "    .dataframe tbody tr th {\n",
       "        vertical-align: top;\n",
       "    }\n",
       "\n",
       "    .dataframe thead th {\n",
       "        text-align: right;\n",
       "    }\n",
       "</style>\n",
       "<table border=\"1\" class=\"dataframe\">\n",
       "  <thead>\n",
       "    <tr style=\"text-align: right;\">\n",
       "      <th></th>\n",
       "      <th>Date</th>\n",
       "      <th>Weekly_Sales</th>\n",
       "      <th>IsHoliday</th>\n",
       "      <th>Temperature</th>\n",
       "      <th>Fuel_Price</th>\n",
       "      <th>MarkDown1</th>\n",
       "      <th>MarkDown2</th>\n",
       "      <th>MarkDown3</th>\n",
       "      <th>MarkDown4</th>\n",
       "      <th>MarkDown5</th>\n",
       "      <th>...</th>\n",
       "      <th>WeekOfYear_43</th>\n",
       "      <th>WeekOfYear_44</th>\n",
       "      <th>WeekOfYear_45</th>\n",
       "      <th>WeekOfYear_46</th>\n",
       "      <th>WeekOfYear_47</th>\n",
       "      <th>WeekOfYear_48</th>\n",
       "      <th>WeekOfYear_49</th>\n",
       "      <th>WeekOfYear_50</th>\n",
       "      <th>WeekOfYear_51</th>\n",
       "      <th>WeekOfYear_52</th>\n",
       "    </tr>\n",
       "  </thead>\n",
       "  <tbody>\n",
       "    <tr>\n",
       "      <th>150504</th>\n",
       "      <td>2010-10-29</td>\n",
       "      <td>6.00</td>\n",
       "      <td>0</td>\n",
       "      <td>35.76</td>\n",
       "      <td>2.748</td>\n",
       "      <td>7246.420196</td>\n",
       "      <td>3334.628621</td>\n",
       "      <td>1439.421384</td>\n",
       "      <td>3383.168256</td>\n",
       "      <td>4628.975079</td>\n",
       "      <td>...</td>\n",
       "      <td>1</td>\n",
       "      <td>0</td>\n",
       "      <td>0</td>\n",
       "      <td>0</td>\n",
       "      <td>0</td>\n",
       "      <td>0</td>\n",
       "      <td>0</td>\n",
       "      <td>0</td>\n",
       "      <td>0</td>\n",
       "      <td>0</td>\n",
       "    </tr>\n",
       "    <tr>\n",
       "      <th>216043</th>\n",
       "      <td>2012-08-10</td>\n",
       "      <td>1898.57</td>\n",
       "      <td>0</td>\n",
       "      <td>76.74</td>\n",
       "      <td>3.772</td>\n",
       "      <td>7212.770000</td>\n",
       "      <td>22.870000</td>\n",
       "      <td>15.430000</td>\n",
       "      <td>2623.170000</td>\n",
       "      <td>1906.300000</td>\n",
       "      <td>...</td>\n",
       "      <td>0</td>\n",
       "      <td>0</td>\n",
       "      <td>0</td>\n",
       "      <td>0</td>\n",
       "      <td>0</td>\n",
       "      <td>0</td>\n",
       "      <td>0</td>\n",
       "      <td>0</td>\n",
       "      <td>0</td>\n",
       "      <td>0</td>\n",
       "    </tr>\n",
       "  </tbody>\n",
       "</table>\n",
       "<p>2 rows × 238 columns</p>\n",
       "</div>"
      ],
      "text/plain": [
       "              Date  Weekly_Sales  IsHoliday  Temperature  Fuel_Price  \\\n",
       "150504  2010-10-29          6.00          0        35.76       2.748   \n",
       "216043  2012-08-10       1898.57          0        76.74       3.772   \n",
       "\n",
       "          MarkDown1    MarkDown2    MarkDown3    MarkDown4    MarkDown5  \\\n",
       "150504  7246.420196  3334.628621  1439.421384  3383.168256  4628.975079   \n",
       "216043  7212.770000    22.870000    15.430000  2623.170000  1906.300000   \n",
       "\n",
       "            ...        WeekOfYear_43  WeekOfYear_44  WeekOfYear_45  \\\n",
       "150504      ...                    1              0              0   \n",
       "216043      ...                    0              0              0   \n",
       "\n",
       "        WeekOfYear_46  WeekOfYear_47  WeekOfYear_48  WeekOfYear_49  \\\n",
       "150504              0              0              0              0   \n",
       "216043              0              0              0              0   \n",
       "\n",
       "        WeekOfYear_50  WeekOfYear_51  WeekOfYear_52  \n",
       "150504              0              0              0  \n",
       "216043              0              0              0  \n",
       "\n",
       "[2 rows x 238 columns]"
      ]
     },
     "execution_count": 24,
     "metadata": {},
     "output_type": "execute_result"
    }
   ],
   "source": [
    "X_train.head(2)"
   ]
  },
  {
   "cell_type": "code",
   "execution_count": 25,
   "metadata": {},
   "outputs": [
    {
     "data": {
      "text/html": [
       "<div>\n",
       "<style scoped>\n",
       "    .dataframe tbody tr th:only-of-type {\n",
       "        vertical-align: middle;\n",
       "    }\n",
       "\n",
       "    .dataframe tbody tr th {\n",
       "        vertical-align: top;\n",
       "    }\n",
       "\n",
       "    .dataframe thead th {\n",
       "        text-align: right;\n",
       "    }\n",
       "</style>\n",
       "<table border=\"1\" class=\"dataframe\">\n",
       "  <thead>\n",
       "    <tr style=\"text-align: right;\">\n",
       "      <th></th>\n",
       "      <th>Date</th>\n",
       "      <th>Weekly_Sales</th>\n",
       "      <th>IsHoliday</th>\n",
       "      <th>Temperature</th>\n",
       "      <th>Fuel_Price</th>\n",
       "      <th>MarkDown1</th>\n",
       "      <th>MarkDown2</th>\n",
       "      <th>MarkDown3</th>\n",
       "      <th>MarkDown4</th>\n",
       "      <th>MarkDown5</th>\n",
       "      <th>...</th>\n",
       "      <th>WeekOfYear_43</th>\n",
       "      <th>WeekOfYear_44</th>\n",
       "      <th>WeekOfYear_45</th>\n",
       "      <th>WeekOfYear_46</th>\n",
       "      <th>WeekOfYear_47</th>\n",
       "      <th>WeekOfYear_48</th>\n",
       "      <th>WeekOfYear_49</th>\n",
       "      <th>WeekOfYear_50</th>\n",
       "      <th>WeekOfYear_51</th>\n",
       "      <th>WeekOfYear_52</th>\n",
       "    </tr>\n",
       "  </thead>\n",
       "  <tbody>\n",
       "    <tr>\n",
       "      <th>272342</th>\n",
       "      <td>2011-07-15</td>\n",
       "      <td>21577.44</td>\n",
       "      <td>0</td>\n",
       "      <td>88.10</td>\n",
       "      <td>3.692</td>\n",
       "      <td>7246.420196</td>\n",
       "      <td>3334.628621</td>\n",
       "      <td>1439.421384</td>\n",
       "      <td>3383.168256</td>\n",
       "      <td>4628.975079</td>\n",
       "      <td>...</td>\n",
       "      <td>0</td>\n",
       "      <td>0</td>\n",
       "      <td>0</td>\n",
       "      <td>0</td>\n",
       "      <td>0</td>\n",
       "      <td>0</td>\n",
       "      <td>0</td>\n",
       "      <td>0</td>\n",
       "      <td>0</td>\n",
       "      <td>0</td>\n",
       "    </tr>\n",
       "    <tr>\n",
       "      <th>176581</th>\n",
       "      <td>2012-08-31</td>\n",
       "      <td>8370.28</td>\n",
       "      <td>0</td>\n",
       "      <td>70.09</td>\n",
       "      <td>3.884</td>\n",
       "      <td>20913.040000</td>\n",
       "      <td>7.980000</td>\n",
       "      <td>98.980000</td>\n",
       "      <td>9800.500000</td>\n",
       "      <td>4527.800000</td>\n",
       "      <td>...</td>\n",
       "      <td>0</td>\n",
       "      <td>0</td>\n",
       "      <td>0</td>\n",
       "      <td>0</td>\n",
       "      <td>0</td>\n",
       "      <td>0</td>\n",
       "      <td>0</td>\n",
       "      <td>0</td>\n",
       "      <td>0</td>\n",
       "      <td>0</td>\n",
       "    </tr>\n",
       "  </tbody>\n",
       "</table>\n",
       "<p>2 rows × 238 columns</p>\n",
       "</div>"
      ],
      "text/plain": [
       "              Date  Weekly_Sales  IsHoliday  Temperature  Fuel_Price  \\\n",
       "272342  2011-07-15      21577.44          0        88.10       3.692   \n",
       "176581  2012-08-31       8370.28          0        70.09       3.884   \n",
       "\n",
       "           MarkDown1    MarkDown2    MarkDown3    MarkDown4    MarkDown5  \\\n",
       "272342   7246.420196  3334.628621  1439.421384  3383.168256  4628.975079   \n",
       "176581  20913.040000     7.980000    98.980000  9800.500000  4527.800000   \n",
       "\n",
       "            ...        WeekOfYear_43  WeekOfYear_44  WeekOfYear_45  \\\n",
       "272342      ...                    0              0              0   \n",
       "176581      ...                    0              0              0   \n",
       "\n",
       "        WeekOfYear_46  WeekOfYear_47  WeekOfYear_48  WeekOfYear_49  \\\n",
       "272342              0              0              0              0   \n",
       "176581              0              0              0              0   \n",
       "\n",
       "        WeekOfYear_50  WeekOfYear_51  WeekOfYear_52  \n",
       "272342              0              0              0  \n",
       "176581              0              0              0  \n",
       "\n",
       "[2 rows x 238 columns]"
      ]
     },
     "execution_count": 25,
     "metadata": {},
     "output_type": "execute_result"
    }
   ],
   "source": [
    "X_test.head(2)"
   ]
  },
  {
   "cell_type": "markdown",
   "metadata": {},
   "source": [
    "### Remove `Date` and `Weekly_Sales` from the Train and Test Data"
   ]
  },
  {
   "cell_type": "code",
   "execution_count": 26,
   "metadata": {
    "scrolled": true
   },
   "outputs": [
    {
     "data": {
      "text/html": [
       "<div>\n",
       "<style scoped>\n",
       "    .dataframe tbody tr th:only-of-type {\n",
       "        vertical-align: middle;\n",
       "    }\n",
       "\n",
       "    .dataframe tbody tr th {\n",
       "        vertical-align: top;\n",
       "    }\n",
       "\n",
       "    .dataframe thead th {\n",
       "        text-align: right;\n",
       "    }\n",
       "</style>\n",
       "<table border=\"1\" class=\"dataframe\">\n",
       "  <thead>\n",
       "    <tr style=\"text-align: right;\">\n",
       "      <th></th>\n",
       "      <th>IsHoliday</th>\n",
       "      <th>Temperature</th>\n",
       "      <th>Fuel_Price</th>\n",
       "      <th>MarkDown1</th>\n",
       "      <th>MarkDown2</th>\n",
       "      <th>MarkDown3</th>\n",
       "      <th>MarkDown4</th>\n",
       "      <th>MarkDown5</th>\n",
       "      <th>CPI</th>\n",
       "      <th>Unemployment</th>\n",
       "      <th>...</th>\n",
       "      <th>WeekOfYear_43</th>\n",
       "      <th>WeekOfYear_44</th>\n",
       "      <th>WeekOfYear_45</th>\n",
       "      <th>WeekOfYear_46</th>\n",
       "      <th>WeekOfYear_47</th>\n",
       "      <th>WeekOfYear_48</th>\n",
       "      <th>WeekOfYear_49</th>\n",
       "      <th>WeekOfYear_50</th>\n",
       "      <th>WeekOfYear_51</th>\n",
       "      <th>WeekOfYear_52</th>\n",
       "    </tr>\n",
       "  </thead>\n",
       "  <tbody>\n",
       "    <tr>\n",
       "      <th>150504</th>\n",
       "      <td>0</td>\n",
       "      <td>35.76</td>\n",
       "      <td>2.748</td>\n",
       "      <td>7246.420196</td>\n",
       "      <td>3334.628621</td>\n",
       "      <td>1439.421384</td>\n",
       "      <td>3383.168256</td>\n",
       "      <td>4628.975079</td>\n",
       "      <td>190.951728</td>\n",
       "      <td>6.986</td>\n",
       "      <td>...</td>\n",
       "      <td>1</td>\n",
       "      <td>0</td>\n",
       "      <td>0</td>\n",
       "      <td>0</td>\n",
       "      <td>0</td>\n",
       "      <td>0</td>\n",
       "      <td>0</td>\n",
       "      <td>0</td>\n",
       "      <td>0</td>\n",
       "      <td>0</td>\n",
       "    </tr>\n",
       "    <tr>\n",
       "      <th>216043</th>\n",
       "      <td>0</td>\n",
       "      <td>76.74</td>\n",
       "      <td>3.772</td>\n",
       "      <td>7212.770000</td>\n",
       "      <td>22.870000</td>\n",
       "      <td>15.430000</td>\n",
       "      <td>2623.170000</td>\n",
       "      <td>1906.300000</td>\n",
       "      <td>142.170563</td>\n",
       "      <td>7.753</td>\n",
       "      <td>...</td>\n",
       "      <td>0</td>\n",
       "      <td>0</td>\n",
       "      <td>0</td>\n",
       "      <td>0</td>\n",
       "      <td>0</td>\n",
       "      <td>0</td>\n",
       "      <td>0</td>\n",
       "      <td>0</td>\n",
       "      <td>0</td>\n",
       "      <td>0</td>\n",
       "    </tr>\n",
       "  </tbody>\n",
       "</table>\n",
       "<p>2 rows × 236 columns</p>\n",
       "</div>"
      ],
      "text/plain": [
       "        IsHoliday  Temperature  Fuel_Price    MarkDown1    MarkDown2  \\\n",
       "150504          0        35.76       2.748  7246.420196  3334.628621   \n",
       "216043          0        76.74       3.772  7212.770000    22.870000   \n",
       "\n",
       "          MarkDown3    MarkDown4    MarkDown5         CPI  Unemployment  \\\n",
       "150504  1439.421384  3383.168256  4628.975079  190.951728         6.986   \n",
       "216043    15.430000  2623.170000  1906.300000  142.170563         7.753   \n",
       "\n",
       "            ...        WeekOfYear_43  WeekOfYear_44  WeekOfYear_45  \\\n",
       "150504      ...                    1              0              0   \n",
       "216043      ...                    0              0              0   \n",
       "\n",
       "        WeekOfYear_46  WeekOfYear_47  WeekOfYear_48  WeekOfYear_49  \\\n",
       "150504              0              0              0              0   \n",
       "216043              0              0              0              0   \n",
       "\n",
       "        WeekOfYear_50  WeekOfYear_51  WeekOfYear_52  \n",
       "150504              0              0              0  \n",
       "216043              0              0              0  \n",
       "\n",
       "[2 rows x 236 columns]"
      ]
     },
     "execution_count": 26,
     "metadata": {},
     "output_type": "execute_result"
    }
   ],
   "source": [
    "#remove the Weekly_Sales, and Date column from the train and test data\n",
    "X_train = X_train[['IsHoliday', 'Temperature', 'Fuel_Price', 'MarkDown1', 'MarkDown2', 'MarkDown3', 'MarkDown4', 'MarkDown5', 'CPI', 'Unemployment', 'Year', 'Type_A', 'Type_B', 'Type_C', 'Size_34875', 'Size_37392', 'Size_39690', 'Size_39910', 'Size_41062', 'Size_42988', 'Size_57197', 'Size_70713', 'Size_93188', 'Size_93638', 'Size_103681', 'Size_112238', 'Size_114533', 'Size_118221', 'Size_119557', 'Size_120653', 'Size_123737', 'Size_125833', 'Size_126512', 'Size_128107', 'Size_140167', 'Size_151315', 'Size_152513', 'Size_155078', 'Size_155083', 'Size_158114', 'Size_184109', 'Size_196321', 'Size_200898', 'Size_202307', 'Size_202505', 'Size_203007', 'Size_203742', 'Size_203750', 'Size_203819', 'Size_204184', 'Size_205863', 'Size_206302', 'Size_207499', 'Size_219622', 'Store_1', 'Store_2', 'Store_3', 'Store_4', 'Store_5', 'Store_6', 'Store_7', 'Store_8', 'Store_9', 'Store_10', 'Store_11', 'Store_12', 'Store_13', 'Store_14', 'Store_15', 'Store_16', 'Store_17', 'Store_18', 'Store_19', 'Store_20', 'Store_21', 'Store_22', 'Store_23', 'Store_24', 'Store_25', 'Store_26', 'Store_27', 'Store_28', 'Store_29', 'Store_30', 'Store_31', 'Store_32', 'Store_33', 'Store_34', 'Store_35', 'Store_36', 'Store_37', 'Store_38', 'Store_39', 'Store_40', 'Store_41', 'Store_42', 'Store_43', 'Store_44', 'Store_45', 'Dept_1', 'Dept_2', 'Dept_3', 'Dept_4', 'Dept_5', 'Dept_6', 'Dept_7', 'Dept_8', 'Dept_9', 'Dept_10', 'Dept_11', 'Dept_12', 'Dept_13', 'Dept_14', 'Dept_16', 'Dept_17', 'Dept_18', 'Dept_19', 'Dept_20', 'Dept_21', 'Dept_22', 'Dept_23', 'Dept_24', 'Dept_25', 'Dept_26', 'Dept_27', 'Dept_28', 'Dept_29', 'Dept_30', 'Dept_31', 'Dept_32', 'Dept_33', 'Dept_34', 'Dept_35', 'Dept_36', 'Dept_37', 'Dept_38', 'Dept_39', 'Dept_40', 'Dept_41', 'Dept_42', 'Dept_43', 'Dept_44', 'Dept_45', 'Dept_46', 'Dept_47', 'Dept_48', 'Dept_49', 'Dept_50', 'Dept_51', 'Dept_52', 'Dept_54', 'Dept_55', 'Dept_56', 'Dept_58', 'Dept_59', 'Dept_60', 'Dept_65', 'Dept_67', 'Dept_71', 'Dept_72', 'Dept_74', 'Dept_77', 'Dept_78', 'Dept_79', 'Dept_80', 'Dept_81', 'Dept_82', 'Dept_83', 'Dept_85', 'Dept_87', 'Dept_90', 'Dept_91', 'Dept_92', 'Dept_93', 'Dept_94', 'Dept_95', 'Dept_96', 'Dept_97', 'Dept_98', 'Dept_99', 'Quarter_1', 'Quarter_2', 'Quarter_3', 'Quarter_4', 'WeekOfYear_1', 'WeekOfYear_2', 'WeekOfYear_3', 'WeekOfYear_4', 'WeekOfYear_5', 'WeekOfYear_6', 'WeekOfYear_7', 'WeekOfYear_8', 'WeekOfYear_9', 'WeekOfYear_10', 'WeekOfYear_11', 'WeekOfYear_12', 'WeekOfYear_13', 'WeekOfYear_14', 'WeekOfYear_15', 'WeekOfYear_16', 'WeekOfYear_17', 'WeekOfYear_18', 'WeekOfYear_19', 'WeekOfYear_20', 'WeekOfYear_21', 'WeekOfYear_22', 'WeekOfYear_23', 'WeekOfYear_24', 'WeekOfYear_25', 'WeekOfYear_26', 'WeekOfYear_27', 'WeekOfYear_28', 'WeekOfYear_29', 'WeekOfYear_30', 'WeekOfYear_31', 'WeekOfYear_32', 'WeekOfYear_33', 'WeekOfYear_34', 'WeekOfYear_35', 'WeekOfYear_36', 'WeekOfYear_37', 'WeekOfYear_38', 'WeekOfYear_39', 'WeekOfYear_40', 'WeekOfYear_41', 'WeekOfYear_42', 'WeekOfYear_43', 'WeekOfYear_44', 'WeekOfYear_45', 'WeekOfYear_46', 'WeekOfYear_47', 'WeekOfYear_48', 'WeekOfYear_49', 'WeekOfYear_50', 'WeekOfYear_51', 'WeekOfYear_52']]\n",
    "X_test = X_test[['IsHoliday', 'Temperature', 'Fuel_Price', 'MarkDown1', 'MarkDown2', 'MarkDown3', 'MarkDown4', 'MarkDown5', 'CPI', 'Unemployment', 'Year', 'Type_A', 'Type_B', 'Type_C', 'Size_34875', 'Size_37392', 'Size_39690', 'Size_39910', 'Size_41062', 'Size_42988', 'Size_57197', 'Size_70713', 'Size_93188', 'Size_93638', 'Size_103681', 'Size_112238', 'Size_114533', 'Size_118221', 'Size_119557', 'Size_120653', 'Size_123737', 'Size_125833', 'Size_126512', 'Size_128107', 'Size_140167', 'Size_151315', 'Size_152513', 'Size_155078', 'Size_155083', 'Size_158114', 'Size_184109', 'Size_196321', 'Size_200898', 'Size_202307', 'Size_202505', 'Size_203007', 'Size_203742', 'Size_203750', 'Size_203819', 'Size_204184', 'Size_205863', 'Size_206302', 'Size_207499', 'Size_219622', 'Store_1', 'Store_2', 'Store_3', 'Store_4', 'Store_5', 'Store_6', 'Store_7', 'Store_8', 'Store_9', 'Store_10', 'Store_11', 'Store_12', 'Store_13', 'Store_14', 'Store_15', 'Store_16', 'Store_17', 'Store_18', 'Store_19', 'Store_20', 'Store_21', 'Store_22', 'Store_23', 'Store_24', 'Store_25', 'Store_26', 'Store_27', 'Store_28', 'Store_29', 'Store_30', 'Store_31', 'Store_32', 'Store_33', 'Store_34', 'Store_35', 'Store_36', 'Store_37', 'Store_38', 'Store_39', 'Store_40', 'Store_41', 'Store_42', 'Store_43', 'Store_44', 'Store_45', 'Dept_1', 'Dept_2', 'Dept_3', 'Dept_4', 'Dept_5', 'Dept_6', 'Dept_7', 'Dept_8', 'Dept_9', 'Dept_10', 'Dept_11', 'Dept_12', 'Dept_13', 'Dept_14', 'Dept_16', 'Dept_17', 'Dept_18', 'Dept_19', 'Dept_20', 'Dept_21', 'Dept_22', 'Dept_23', 'Dept_24', 'Dept_25', 'Dept_26', 'Dept_27', 'Dept_28', 'Dept_29', 'Dept_30', 'Dept_31', 'Dept_32', 'Dept_33', 'Dept_34', 'Dept_35', 'Dept_36', 'Dept_37', 'Dept_38', 'Dept_39', 'Dept_40', 'Dept_41', 'Dept_42', 'Dept_43', 'Dept_44', 'Dept_45', 'Dept_46', 'Dept_47', 'Dept_48', 'Dept_49', 'Dept_50', 'Dept_51', 'Dept_52', 'Dept_54', 'Dept_55', 'Dept_56', 'Dept_58', 'Dept_59', 'Dept_60', 'Dept_65', 'Dept_67', 'Dept_71', 'Dept_72', 'Dept_74', 'Dept_77', 'Dept_78', 'Dept_79', 'Dept_80', 'Dept_81', 'Dept_82', 'Dept_83', 'Dept_85', 'Dept_87', 'Dept_90', 'Dept_91', 'Dept_92', 'Dept_93', 'Dept_94', 'Dept_95', 'Dept_96', 'Dept_97', 'Dept_98', 'Dept_99', 'Quarter_1', 'Quarter_2', 'Quarter_3', 'Quarter_4', 'WeekOfYear_1', 'WeekOfYear_2', 'WeekOfYear_3', 'WeekOfYear_4', 'WeekOfYear_5', 'WeekOfYear_6', 'WeekOfYear_7', 'WeekOfYear_8', 'WeekOfYear_9', 'WeekOfYear_10', 'WeekOfYear_11', 'WeekOfYear_12', 'WeekOfYear_13', 'WeekOfYear_14', 'WeekOfYear_15', 'WeekOfYear_16', 'WeekOfYear_17', 'WeekOfYear_18', 'WeekOfYear_19', 'WeekOfYear_20', 'WeekOfYear_21', 'WeekOfYear_22', 'WeekOfYear_23', 'WeekOfYear_24', 'WeekOfYear_25', 'WeekOfYear_26', 'WeekOfYear_27', 'WeekOfYear_28', 'WeekOfYear_29', 'WeekOfYear_30', 'WeekOfYear_31', 'WeekOfYear_32', 'WeekOfYear_33', 'WeekOfYear_34', 'WeekOfYear_35', 'WeekOfYear_36', 'WeekOfYear_37', 'WeekOfYear_38', 'WeekOfYear_39', 'WeekOfYear_40', 'WeekOfYear_41', 'WeekOfYear_42', 'WeekOfYear_43', 'WeekOfYear_44', 'WeekOfYear_45', 'WeekOfYear_46', 'WeekOfYear_47', 'WeekOfYear_48', 'WeekOfYear_49', 'WeekOfYear_50', 'WeekOfYear_51', 'WeekOfYear_52']]\n",
    "\n",
    "X_train.head(2)"
   ]
  },
  {
   "cell_type": "raw",
   "metadata": {},
   "source": [
    "headers = list(X_train)\n",
    "print(\"Headers of train data: {}\".format(headers))"
   ]
  },
  {
   "cell_type": "code",
   "execution_count": 27,
   "metadata": {},
   "outputs": [
    {
     "data": {
      "text/html": [
       "<div>\n",
       "<style scoped>\n",
       "    .dataframe tbody tr th:only-of-type {\n",
       "        vertical-align: middle;\n",
       "    }\n",
       "\n",
       "    .dataframe tbody tr th {\n",
       "        vertical-align: top;\n",
       "    }\n",
       "\n",
       "    .dataframe thead th {\n",
       "        text-align: right;\n",
       "    }\n",
       "</style>\n",
       "<table border=\"1\" class=\"dataframe\">\n",
       "  <thead>\n",
       "    <tr style=\"text-align: right;\">\n",
       "      <th></th>\n",
       "      <th>IsHoliday</th>\n",
       "      <th>Temperature</th>\n",
       "      <th>Fuel_Price</th>\n",
       "      <th>MarkDown1</th>\n",
       "      <th>MarkDown2</th>\n",
       "      <th>MarkDown3</th>\n",
       "      <th>MarkDown4</th>\n",
       "      <th>MarkDown5</th>\n",
       "      <th>CPI</th>\n",
       "      <th>Unemployment</th>\n",
       "      <th>...</th>\n",
       "      <th>WeekOfYear_43</th>\n",
       "      <th>WeekOfYear_44</th>\n",
       "      <th>WeekOfYear_45</th>\n",
       "      <th>WeekOfYear_46</th>\n",
       "      <th>WeekOfYear_47</th>\n",
       "      <th>WeekOfYear_48</th>\n",
       "      <th>WeekOfYear_49</th>\n",
       "      <th>WeekOfYear_50</th>\n",
       "      <th>WeekOfYear_51</th>\n",
       "      <th>WeekOfYear_52</th>\n",
       "    </tr>\n",
       "  </thead>\n",
       "  <tbody>\n",
       "    <tr>\n",
       "      <th>272342</th>\n",
       "      <td>0</td>\n",
       "      <td>88.10</td>\n",
       "      <td>3.692</td>\n",
       "      <td>7246.420196</td>\n",
       "      <td>3334.628621</td>\n",
       "      <td>1439.421384</td>\n",
       "      <td>3383.168256</td>\n",
       "      <td>4628.975079</td>\n",
       "      <td>129.133839</td>\n",
       "      <td>13.503</td>\n",
       "      <td>...</td>\n",
       "      <td>0</td>\n",
       "      <td>0</td>\n",
       "      <td>0</td>\n",
       "      <td>0</td>\n",
       "      <td>0</td>\n",
       "      <td>0</td>\n",
       "      <td>0</td>\n",
       "      <td>0</td>\n",
       "      <td>0</td>\n",
       "      <td>0</td>\n",
       "    </tr>\n",
       "    <tr>\n",
       "      <th>176581</th>\n",
       "      <td>0</td>\n",
       "      <td>70.09</td>\n",
       "      <td>3.884</td>\n",
       "      <td>20913.040000</td>\n",
       "      <td>7.980000</td>\n",
       "      <td>98.980000</td>\n",
       "      <td>9800.500000</td>\n",
       "      <td>4527.800000</td>\n",
       "      <td>138.377194</td>\n",
       "      <td>8.535</td>\n",
       "      <td>...</td>\n",
       "      <td>0</td>\n",
       "      <td>0</td>\n",
       "      <td>0</td>\n",
       "      <td>0</td>\n",
       "      <td>0</td>\n",
       "      <td>0</td>\n",
       "      <td>0</td>\n",
       "      <td>0</td>\n",
       "      <td>0</td>\n",
       "      <td>0</td>\n",
       "    </tr>\n",
       "  </tbody>\n",
       "</table>\n",
       "<p>2 rows × 236 columns</p>\n",
       "</div>"
      ],
      "text/plain": [
       "        IsHoliday  Temperature  Fuel_Price     MarkDown1    MarkDown2  \\\n",
       "272342          0        88.10       3.692   7246.420196  3334.628621   \n",
       "176581          0        70.09       3.884  20913.040000     7.980000   \n",
       "\n",
       "          MarkDown3    MarkDown4    MarkDown5         CPI  Unemployment  \\\n",
       "272342  1439.421384  3383.168256  4628.975079  129.133839        13.503   \n",
       "176581    98.980000  9800.500000  4527.800000  138.377194         8.535   \n",
       "\n",
       "            ...        WeekOfYear_43  WeekOfYear_44  WeekOfYear_45  \\\n",
       "272342      ...                    0              0              0   \n",
       "176581      ...                    0              0              0   \n",
       "\n",
       "        WeekOfYear_46  WeekOfYear_47  WeekOfYear_48  WeekOfYear_49  \\\n",
       "272342              0              0              0              0   \n",
       "176581              0              0              0              0   \n",
       "\n",
       "        WeekOfYear_50  WeekOfYear_51  WeekOfYear_52  \n",
       "272342              0              0              0  \n",
       "176581              0              0              0  \n",
       "\n",
       "[2 rows x 236 columns]"
      ]
     },
     "execution_count": 27,
     "metadata": {},
     "output_type": "execute_result"
    }
   ],
   "source": [
    "X_test.head(2)"
   ]
  },
  {
   "cell_type": "code",
   "execution_count": 28,
   "metadata": {},
   "outputs": [
    {
     "name": "stdout",
     "output_type": "stream",
     "text": [
      "Headers of test data: ['IsHoliday', 'Temperature', 'Fuel_Price', 'MarkDown1', 'MarkDown2', 'MarkDown3', 'MarkDown4', 'MarkDown5', 'CPI', 'Unemployment', 'Year', 'Type_A', 'Type_B', 'Type_C', 'Size_34875', 'Size_37392', 'Size_39690', 'Size_39910', 'Size_41062', 'Size_42988', 'Size_57197', 'Size_70713', 'Size_93188', 'Size_93638', 'Size_103681', 'Size_112238', 'Size_114533', 'Size_118221', 'Size_119557', 'Size_120653', 'Size_123737', 'Size_125833', 'Size_126512', 'Size_128107', 'Size_140167', 'Size_151315', 'Size_152513', 'Size_155078', 'Size_155083', 'Size_158114', 'Size_184109', 'Size_196321', 'Size_200898', 'Size_202307', 'Size_202505', 'Size_203007', 'Size_203742', 'Size_203750', 'Size_203819', 'Size_204184', 'Size_205863', 'Size_206302', 'Size_207499', 'Size_219622', 'Store_1', 'Store_2', 'Store_3', 'Store_4', 'Store_5', 'Store_6', 'Store_7', 'Store_8', 'Store_9', 'Store_10', 'Store_11', 'Store_12', 'Store_13', 'Store_14', 'Store_15', 'Store_16', 'Store_17', 'Store_18', 'Store_19', 'Store_20', 'Store_21', 'Store_22', 'Store_23', 'Store_24', 'Store_25', 'Store_26', 'Store_27', 'Store_28', 'Store_29', 'Store_30', 'Store_31', 'Store_32', 'Store_33', 'Store_34', 'Store_35', 'Store_36', 'Store_37', 'Store_38', 'Store_39', 'Store_40', 'Store_41', 'Store_42', 'Store_43', 'Store_44', 'Store_45', 'Dept_1', 'Dept_2', 'Dept_3', 'Dept_4', 'Dept_5', 'Dept_6', 'Dept_7', 'Dept_8', 'Dept_9', 'Dept_10', 'Dept_11', 'Dept_12', 'Dept_13', 'Dept_14', 'Dept_16', 'Dept_17', 'Dept_18', 'Dept_19', 'Dept_20', 'Dept_21', 'Dept_22', 'Dept_23', 'Dept_24', 'Dept_25', 'Dept_26', 'Dept_27', 'Dept_28', 'Dept_29', 'Dept_30', 'Dept_31', 'Dept_32', 'Dept_33', 'Dept_34', 'Dept_35', 'Dept_36', 'Dept_37', 'Dept_38', 'Dept_39', 'Dept_40', 'Dept_41', 'Dept_42', 'Dept_43', 'Dept_44', 'Dept_45', 'Dept_46', 'Dept_47', 'Dept_48', 'Dept_49', 'Dept_50', 'Dept_51', 'Dept_52', 'Dept_54', 'Dept_55', 'Dept_56', 'Dept_58', 'Dept_59', 'Dept_60', 'Dept_65', 'Dept_67', 'Dept_71', 'Dept_72', 'Dept_74', 'Dept_77', 'Dept_78', 'Dept_79', 'Dept_80', 'Dept_81', 'Dept_82', 'Dept_83', 'Dept_85', 'Dept_87', 'Dept_90', 'Dept_91', 'Dept_92', 'Dept_93', 'Dept_94', 'Dept_95', 'Dept_96', 'Dept_97', 'Dept_98', 'Dept_99', 'Quarter_1', 'Quarter_2', 'Quarter_3', 'Quarter_4', 'WeekOfYear_1', 'WeekOfYear_2', 'WeekOfYear_3', 'WeekOfYear_4', 'WeekOfYear_5', 'WeekOfYear_6', 'WeekOfYear_7', 'WeekOfYear_8', 'WeekOfYear_9', 'WeekOfYear_10', 'WeekOfYear_11', 'WeekOfYear_12', 'WeekOfYear_13', 'WeekOfYear_14', 'WeekOfYear_15', 'WeekOfYear_16', 'WeekOfYear_17', 'WeekOfYear_18', 'WeekOfYear_19', 'WeekOfYear_20', 'WeekOfYear_21', 'WeekOfYear_22', 'WeekOfYear_23', 'WeekOfYear_24', 'WeekOfYear_25', 'WeekOfYear_26', 'WeekOfYear_27', 'WeekOfYear_28', 'WeekOfYear_29', 'WeekOfYear_30', 'WeekOfYear_31', 'WeekOfYear_32', 'WeekOfYear_33', 'WeekOfYear_34', 'WeekOfYear_35', 'WeekOfYear_36', 'WeekOfYear_37', 'WeekOfYear_38', 'WeekOfYear_39', 'WeekOfYear_40', 'WeekOfYear_41', 'WeekOfYear_42', 'WeekOfYear_43', 'WeekOfYear_44', 'WeekOfYear_45', 'WeekOfYear_46', 'WeekOfYear_47', 'WeekOfYear_48', 'WeekOfYear_49', 'WeekOfYear_50', 'WeekOfYear_51', 'WeekOfYear_52']\n"
     ]
    }
   ],
   "source": [
    "headers = list(X_test)\n",
    "print(\"Headers of test data: {}\".format(headers))"
   ]
  },
  {
   "cell_type": "markdown",
   "metadata": {},
   "source": [
    "### Implement StandardScaler Transformation\n",
    "\n",
    "The StandardScaler in scikit-learn ensures that for each feature the mean is `0` and the variance is `1`, bringing all features to the same magnitude."
   ]
  },
  {
   "cell_type": "code",
   "execution_count": 29,
   "metadata": {},
   "outputs": [],
   "source": [
    "from sklearn.preprocessing import StandardScaler\n",
    "x_scaler = StandardScaler()\n",
    "# scalling fit and transform at the same time, more efficient computation\n",
    "fit = x_scaler.fit(X_train)\n",
    "X_train_scaled = fit.transform(X_train)\n",
    "X_test_scaled = fit.transform(X_test)\n",
    "\n",
    "y_scaler = StandardScaler()\n",
    "y_train_scaled = y_scaler.fit_transform(y_train[:, None])[:, 0]\n",
    "y_test_scaled = y_scaler.transform(y_test[:, None])[:, 0]"
   ]
  },
  {
   "cell_type": "code",
   "execution_count": 30,
   "metadata": {
    "scrolled": true
   },
   "outputs": [
    {
     "data": {
      "text/plain": [
       "array([[-0.27414904, -1.31953334, -1.33907513, ..., -0.12023957,\n",
       "        -0.11928856, -0.11870081],\n",
       "       [-0.27414904,  0.90173807,  0.8958021 , ..., -0.12023957,\n",
       "        -0.11928856, -0.11870081],\n",
       "       [-0.27414904,  1.38252571, -1.6118873 , ..., -0.12023957,\n",
       "        -0.11928856, -0.11870081],\n",
       "       ...,\n",
       "       [-0.27414904, -1.05176661, -0.25437398, ..., -0.12023957,\n",
       "        -0.11928856, -0.11870081],\n",
       "       [-0.27414904,  0.7879101 ,  0.62080744, ..., -0.12023957,\n",
       "        -0.11928856, -0.11870081],\n",
       "       [-0.27414904, -0.96070424,  0.16030051, ..., -0.12023957,\n",
       "        -0.11928856, -0.11870081]])"
      ]
     },
     "metadata": {},
     "output_type": "display_data"
    }
   ],
   "source": [
    "display(X_train_scaled)"
   ]
  },
  {
   "cell_type": "code",
   "execution_count": 31,
   "metadata": {},
   "outputs": [
    {
     "data": {
      "text/plain": [
       "array([-0.70372134, -0.62022103, -0.68092495, ...,  1.90977184,\n",
       "        0.90491702, -0.15308173])"
      ]
     },
     "metadata": {},
     "output_type": "display_data"
    }
   ],
   "source": [
    "display(y_train_scaled)"
   ]
  },
  {
   "cell_type": "markdown",
   "metadata": {},
   "source": [
    "### Linear Regression Model"
   ]
  },
  {
   "cell_type": "code",
   "execution_count": 32,
   "metadata": {},
   "outputs": [],
   "source": [
    "from sklearn import linear_model\n",
    "from sklearn.metrics import mean_squared_error\n",
    "reg = linear_model.LinearRegression(n_jobs=10)\n",
    "start = time.time()\n",
    "reg.fit(X_train_scaled, y_train_scaled)\n",
    "end = time.time()"
   ]
  },
  {
   "cell_type": "code",
   "execution_count": 33,
   "metadata": {
    "scrolled": true
   },
   "outputs": [
    {
     "name": "stdout",
     "output_type": "stream",
     "text": [
      "Model Training Time: 3.1618 seconds: \n",
      "Intercept:  -1.2268898222513255e-05\n",
      "Number of coefficients:  236\n",
      "The coefficient of multiple determination (R^2 of the prediction):  0.6645839670688014\n"
     ]
    }
   ],
   "source": [
    "print(\"Model Training Time: {0:.5} seconds: \".format(end-start))\n",
    "print('Intercept: ', reg.intercept_)\n",
    "print('Number of coefficients: ', len(reg.coef_))\n",
    "print('The coefficient of multiple determination (R^2 of the prediction): ', reg.score(X_train_scaled, y_train_scaled))\n"
   ]
  },
  {
   "cell_type": "code",
   "execution_count": 34,
   "metadata": {},
   "outputs": [
    {
     "name": "stdout",
     "output_type": "stream",
     "text": [
      "Model Prediction Time, 0.059678 seconds\n",
      "mean_squared_error for train data prediction: 0.34\n",
      "mean_squared_error for test data prediction: 0.35\n"
     ]
    }
   ],
   "source": [
    "from sklearn.metrics import mean_squared_log_error\n",
    "pred_weekly_sales_train = reg.predict(X_train_scaled)\n",
    "start = time.time()\n",
    "pred_weekly_sales_test = reg.predict(X_test_scaled)\n",
    "end = time.time()\n",
    "print(\"Model Prediction Time, {0:.5} seconds\".format(end-start))\n",
    "print(\"mean_squared_error for train data prediction: {:.2f}\".format(mean_squared_error(y_train_scaled, pred_weekly_sales_train)))\n",
    "print(\"mean_squared_error for test data prediction: {:.2f}\".format(mean_squared_error(y_test_scaled, pred_weekly_sales_test)))\n"
   ]
  },
  {
   "cell_type": "code",
   "execution_count": 35,
   "metadata": {},
   "outputs": [
    {
     "name": "stdout",
     "output_type": "stream",
     "text": [
      "Number of coefficients:  236\n",
      "Headers:  236\n"
     ]
    }
   ],
   "source": [
    "print('Number of coefficients: ', len(reg.coef_))\n",
    "headers = list(X_train)\n",
    "print('Headers: ', len(headers))"
   ]
  },
  {
   "cell_type": "markdown",
   "metadata": {},
   "source": [
    "#### Find Coefficients for Each Features"
   ]
  },
  {
   "cell_type": "code",
   "execution_count": 36,
   "metadata": {},
   "outputs": [
    {
     "name": "stdout",
     "output_type": "stream",
     "text": [
      "          Features EstimatedCoefficients\n",
      "134        Dept_37         94911256212.9\n",
      "80        Store_27         87981387096.3\n",
      "87        Store_34        847553713228.3\n",
      "73        Store_20        816501132968.3\n",
      "142        Dept_45         81298705264.0\n",
      "31     Size_125833        807432822266.0\n",
      "91        Store_38        779637261025.2\n",
      "145        Dept_48         77931407483.9\n",
      "95        Store_42        752120364654.1\n",
      "136        Dept_39          7479821158.4\n",
      "147        Dept_50         74160047280.3\n",
      "54         Store_1         71445617581.3\n",
      "148        Dept_51         69686410289.9\n",
      "85        Store_32        677903711537.2\n",
      "83        Store_30        652908484249.3\n",
      "140        Dept_43          6477745871.5\n",
      "70        Store_17        635928515734.9\n",
      "92        Store_39        618913073143.3\n",
      "30     Size_123737        599434808434.3\n",
      "182      Quarter_3        597368461618.5\n",
      "18      Size_41062        586029597841.5\n",
      "11          Type_A         58147463707.6\n",
      "74        Store_21        576394499983.3\n",
      "179        Dept_99         55790716918.8\n",
      "51     Size_206302         52644234266.1\n",
      "56         Store_3        502543027969.8\n",
      "75        Store_22        487855267514.3\n",
      "144        Dept_47         47857853965.3\n",
      "219  WeekOfYear_36         47525735529.9\n",
      "44     Size_202505        473748439864.4\n",
      "42     Size_200898        473110525240.2\n",
      "24     Size_103681        461797483662.2\n",
      "58         Store_5        424187134676.9\n",
      "86        Store_33        410123601201.8\n",
      "43     Size_202307        409623445501.5\n",
      "98        Store_45        401772917409.3\n",
      "64        Store_11        367768592664.0\n",
      "12          Type_B        337096670572.0\n",
      "20      Size_57197        322881562448.8\n",
      "53     Size_219622        320931288928.6\n",
      "190   WeekOfYear_7         29912662028.0\n",
      "183      Quarter_4         29819904645.9\n",
      "191   WeekOfYear_8         29797791461.4\n",
      "192   WeekOfYear_9         29784756790.3\n",
      "194  WeekOfYear_11         29741262890.4\n",
      "193  WeekOfYear_10         29732555785.3\n",
      "188   WeekOfYear_5         29612550047.7\n",
      "195  WeekOfYear_12         29586296482.1\n",
      "90        Store_37        287984818591.1\n",
      "97        Store_44        287407211452.8\n",
      "162        Dept_78         28556674773.8\n",
      "29     Size_120653        283267511041.3\n",
      "38     Size_155083        251604645093.6\n",
      "189   WeekOfYear_6        246518192771.5\n",
      "184   WeekOfYear_1         24347533875.5\n",
      "186   WeekOfYear_3         24296217370.0\n",
      "60         Store_7        242757213471.5\n",
      "185   WeekOfYear_2         24261039871.0\n",
      "187   WeekOfYear_4         24051564391.7\n",
      "161        Dept_77         22847616995.6\n",
      "32     Size_126512        223646548089.3\n",
      "156        Dept_65         21589378622.1\n",
      "41     Size_196321        194001269698.5\n",
      "26     Size_114533        193345744978.6\n",
      "230  WeekOfYear_47        189250037055.9\n",
      "235  WeekOfYear_52        187718927167.6\n",
      "33     Size_128107       1761897199155.6\n",
      "82        Store_29       1638894680640.3\n",
      "105         Dept_7        149958686902.1\n",
      "114        Dept_17        149823044182.4\n",
      "135        Dept_38        149792883592.6\n",
      "109        Dept_11        149506034848.3\n",
      "108        Dept_10        149445570942.7\n",
      "99          Dept_1        149415329222.2\n",
      "175        Dept_95        149294297130.6\n",
      "170        Dept_90        149097396932.8\n",
      "106         Dept_8        149067080026.5\n",
      "112        Dept_14        148960919146.3\n",
      "157        Dept_67        148930572675.8\n",
      "101         Dept_3        148885040629.8\n",
      "113        Dept_16        148869859988.3\n",
      "139        Dept_42        148854677699.6\n",
      "171        Dept_91        148839493763.3\n",
      "143        Dept_46        148793932062.4\n",
      "165        Dept_81        148657157818.6\n",
      "100         Dept_2        148565900568.2\n",
      "118        Dept_21        148550685228.4\n",
      "160        Dept_74        148444131402.5\n",
      "102         Dept_4        148444131402.5\n",
      "169        Dept_87        148428902785.6\n",
      "137        Dept_40        148367971693.8\n",
      "172        Dept_92        148307013977.8\n",
      "163        Dept_79        148291770384.6\n",
      "111        Dept_13        148276525125.2\n",
      "110        Dept_12        148093451831.3\n",
      "166        Dept_82        147910137585.4\n",
      "107         Dept_9        147848979136.9\n",
      "122        Dept_25        147741887090.6\n",
      "149        Dept_52        147159084727.7\n",
      "103         Dept_5        147112969517.2\n",
      "177        Dept_97        146974531651.9\n",
      "154        Dept_59        145675705571.2\n",
      "125        Dept_28        145130885896.6\n",
      "128        Dept_31        144442876764.0\n",
      "159        Dept_72        144301719141.1\n",
      "117        Dept_20        144191828614.5\n",
      "48     Size_203819        144147034672.1\n",
      "168        Dept_85        143735619295.7\n",
      "129        Dept_32        143420096291.1\n",
      "167        Dept_83        143277870817.3\n",
      "104         Dept_6        143135495677.4\n",
      "164        Dept_80        142739220148.3\n",
      "173        Dept_93        142723344898.4\n",
      "152        Dept_56        142500894832.6\n",
      "178        Dept_98        142262146939.2\n",
      "155        Dept_60        141013762747.0\n",
      "120        Dept_23        140724010833.6\n",
      "123        Dept_26        140045459023.1\n",
      "174        Dept_94        139493601066.2\n",
      "124        Dept_27        139086348042.9\n",
      "151        Dept_55        138923093976.8\n",
      "119        Dept_22        138743280358.5\n",
      "141        Dept_44        138202358324.5\n",
      "138        Dept_41        136898264742.0\n",
      "130        Dept_33        136715642082.5\n",
      "121        Dept_24        136082777241.3\n",
      "131        Dept_34        135982567655.9\n",
      "133        Dept_36        135698217379.8\n",
      "127        Dept_30        135530659143.2\n",
      "132        Dept_35        135211696391.9\n",
      "158        Dept_71        135178075293.6\n",
      "126        Dept_29        134605164729.1\n",
      "115        Dept_18        132424942391.9\n",
      "176        Dept_96        129399315033.2\n",
      "150        Dept_54        127715670053.3\n",
      "223  WeekOfYear_40         12654447907.4\n",
      "222  WeekOfYear_39         12650758972.1\n",
      "226  WeekOfYear_43         12614730195.0\n",
      "224  WeekOfYear_41         12603621825.7\n",
      "225  WeekOfYear_42         12573947214.2\n",
      "146        Dept_49        124093006343.8\n",
      "84        Store_31       1234515143112.1\n",
      "153        Dept_58        122444917622.8\n",
      "25     Size_112238       1199247472918.0\n",
      "116        Dept_19        119613654395.0\n",
      "17      Size_39910        118289701046.1\n",
      "50     Size_205863       1143589219557.6\n",
      "197  WeekOfYear_14        105153333533.9\n",
      "198  WeekOfYear_15        105068638498.7\n",
      "206  WeekOfYear_23        104814105743.9\n",
      "202  WeekOfYear_19        104790932991.2\n",
      "208  WeekOfYear_25        104752299324.6\n",
      "196  WeekOfYear_13        104744570728.3\n",
      "200  WeekOfYear_17        104543408732.5\n",
      "203  WeekOfYear_20        104473677431.8\n",
      "205  WeekOfYear_22        104349585374.3\n",
      "232  WeekOfYear_49         10420473937.6\n",
      "199  WeekOfYear_16        104163145468.8\n",
      "201  WeekOfYear_18        104132036823.4\n",
      "207  WeekOfYear_24        104093136787.5\n",
      "233  WeekOfYear_50         10404557204.5\n",
      "204  WeekOfYear_21        103890601071.8\n",
      "36     Size_152513       1036886277018.8\n",
      "234  WeekOfYear_51         10324583529.9\n",
      "231  WeekOfYear_48         10323436295.2\n",
      "37     Size_155078        103047731894.3\n",
      "227  WeekOfYear_44         10299313119.4\n",
      "229  WeekOfYear_46         10299313119.4\n",
      "228  WeekOfYear_45         10263593038.9\n",
      "8              CPI                   0.1\n",
      "7        MarkDown5                   0.0\n",
      "4        MarkDown2                   0.0\n",
      "5        MarkDown3                   0.0\n",
      "1      Temperature                   0.0\n",
      "3        MarkDown1                   0.0\n",
      "62         Store_9       -866123651881.6\n",
      "39     Size_158114       -822164807272.4\n",
      "46     Size_203742       -791199591893.1\n",
      "61         Store_8        -78123735003.7\n",
      "77        Store_24        -77935353017.5\n",
      "72        Store_19        -77781419164.0\n",
      "13          Type_C       -750607224240.2\n",
      "22      Size_93188       -697630650974.7\n",
      "16      Size_39690       -684707532560.9\n",
      "68        Store_15       -661461660992.1\n",
      "45     Size_203007       -652466412690.4\n",
      "34     Size_140167       -637403951563.2\n",
      "49     Size_204184        -62508664680.5\n",
      "40     Size_184109       -593942978268.8\n",
      "15      Size_37392       -562209066333.2\n",
      "28     Size_119557       -549272244083.2\n",
      "88        Store_35       -522727579071.2\n",
      "14      Size_34875       -483527177371.6\n",
      "89        Store_36        -46471311975.9\n",
      "27     Size_118221       -463044690846.7\n",
      "35     Size_151315        -46008318734.5\n",
      "59         Store_6       -448361148759.9\n",
      "67        Store_14       -447908076336.4\n",
      "0        IsHoliday       -386543298888.5\n",
      "55         Store_2       -384145896816.2\n",
      "69        Store_16       -383564510643.5\n",
      "71        Store_18       -345359901693.8\n",
      "52     Size_207499       -342483266845.7\n",
      "21      Size_70713       -304595218196.4\n",
      "66        Store_13       -295207336072.9\n",
      "19      Size_42988       -294099738150.4\n",
      "63        Store_10       -286737155843.7\n",
      "81        Store_28        -27258558126.6\n",
      "76        Store_23       -255776899344.6\n",
      "181      Quarter_2       -254645724801.7\n",
      "96        Store_43       -237819990686.3\n",
      "93        Store_40       -226457614869.9\n",
      "180      Quarter_1        -20159841623.7\n",
      "78        Store_25      -1823936345910.0\n",
      "211  WeekOfYear_28       -170181134085.6\n",
      "217  WeekOfYear_34       -170168651303.0\n",
      "221  WeekOfYear_38       -170156167522.3\n",
      "23      Size_93638      -1700261915776.0\n",
      "220  WeekOfYear_37       -169743641328.2\n",
      "215  WeekOfYear_32       -169643470344.6\n",
      "212  WeekOfYear_29       -169455475867.9\n",
      "214  WeekOfYear_31       -169455475867.8\n",
      "218  WeekOfYear_35       -169179339005.0\n",
      "213  WeekOfYear_30       -169141645939.1\n",
      "209  WeekOfYear_26       -168990782130.3\n",
      "94        Store_41       -168896709479.5\n",
      "216  WeekOfYear_33       -168877537979.6\n",
      "210  WeekOfYear_27       -168145750737.9\n",
      "65        Store_12      -1260937240071.0\n",
      "47     Size_203750      -1209265531313.4\n",
      "57         Store_4      -1118176104430.7\n",
      "79        Store_26      -1011972170480.3\n",
      "9     Unemployment                  -0.1\n",
      "2       Fuel_Price                  -0.0\n",
      "10            Year                  -0.0\n",
      "6        MarkDown4                  -0.0\n"
     ]
    }
   ],
   "source": [
    "arr = reg.coef_.round(1)\n",
    "cof = [float(numeric_string) for numeric_string in arr]\n",
    "dat = np.c_[headers, cof]\n",
    "columns = np.append([], ['Features', 'EstimatedCoefficients'])\n",
    "dftt = pd.DataFrame(dat, columns=columns)\n",
    "dftt.sort_values(by=['EstimatedCoefficients'], inplace=True, ascending=False)\n",
    "print(dftt.to_string())"
   ]
  },
  {
   "cell_type": "markdown",
   "metadata": {},
   "source": [
    "#### Discussion on Linear Regression Model\n",
    "\n",
    "We see that the `mean_squared_error` of `.34` for train data prediction and is very close to the `mean_squared_error`  for test data prediction of `.35`. While the error is little higher for both the difference between the test and train data is only `.01` which tells us that the model predicts the test data as accurately as for the train data.\n"
   ]
  },
  {
   "cell_type": "markdown",
   "metadata": {},
   "source": [
    "### Neural Net Model"
   ]
  },
  {
   "cell_type": "markdown",
   "metadata": {},
   "source": [
    "#### With solver ‘lbfgs’ - an optimizer in the family of quasi-Newton methods"
   ]
  },
  {
   "cell_type": "code",
   "execution_count": 37,
   "metadata": {},
   "outputs": [
    {
     "name": "stdout",
     "output_type": "stream",
     "text": [
      "MLPRegressor for solver ‘lbfgs’, computation complete!\n"
     ]
    }
   ],
   "source": [
    "from sklearn.neural_network import MLPRegressor \n",
    "\n",
    "#alphaCD = [0.01, 0.5, 1]\n",
    "alphaCD = [1]\n",
    "MSE_train = []\n",
    "MSE_test = []\n",
    "rsquare = []\n",
    "model_train_time = []\n",
    "model_pred_time = []\n",
    "#hidden_layer_sizes=[10,10],\n",
    "for alpha in alphaCD:\n",
    "    mlpr = MLPRegressor(solver='lbfgs', random_state=42, alpha=alpha)\n",
    "    start = time.time()\n",
    "    mlpr.fit(X_train_scaled, y_train_scaled)\n",
    "    end = time.time()\n",
    "    model_train_time.append(end-start)\n",
    "    rsquare.append(mlpr.score(X_train_scaled, y_train_scaled))\n",
    "    start = time.time()\n",
    "    pred_weekly_sales_test = reg.predict(X_test_scaled)\n",
    "    end = time.time()\n",
    "    model_pred_time.append(end-start)\n",
    "    pred_weekly_sales_train = reg.predict(X_train_scaled)\n",
    "    MSE_train.append(mean_squared_error(y_train_scaled, pred_weekly_sales_train))\n",
    "    MSE_test.append(mean_squared_error(y_test_scaled, pred_weekly_sales_test))\n",
    "\n",
    "print('MLPRegressor for solver ‘lbfgs’, computation complete!')"
   ]
  },
  {
   "cell_type": "code",
   "execution_count": 38,
   "metadata": {
    "scrolled": true
   },
   "outputs": [
    {
     "name": "stdout",
     "output_type": "stream",
     "text": [
      "MSE_train:\n"
     ]
    },
    {
     "data": {
      "text/plain": [
       "[0.3354160329311986]"
      ]
     },
     "metadata": {},
     "output_type": "display_data"
    },
    {
     "name": "stdout",
     "output_type": "stream",
     "text": [
      "MSE_test:\n"
     ]
    },
    {
     "data": {
      "text/plain": [
       "[0.34684924107496856]"
      ]
     },
     "metadata": {},
     "output_type": "display_data"
    },
    {
     "name": "stdout",
     "output_type": "stream",
     "text": [
      "R^2 of the prediction:\n"
     ]
    },
    {
     "data": {
      "text/plain": [
       "[0.9379506307664771]"
      ]
     },
     "metadata": {},
     "output_type": "display_data"
    },
    {
     "name": "stdout",
     "output_type": "stream",
     "text": [
      "Model Train Time:\n"
     ]
    },
    {
     "data": {
      "text/plain": [
       "[178.73502588272095]"
      ]
     },
     "metadata": {},
     "output_type": "display_data"
    },
    {
     "name": "stdout",
     "output_type": "stream",
     "text": [
      "Model Prediction Time:\n"
     ]
    },
    {
     "data": {
      "text/plain": [
       "[0.019697189331054688]"
      ]
     },
     "metadata": {},
     "output_type": "display_data"
    }
   ],
   "source": [
    "print('MSE_train:')\n",
    "display(MSE_train)\n",
    "print('MSE_test:')\n",
    "display(MSE_test)\n",
    "print('R^2 of the prediction:')\n",
    "display(rsquare)\n",
    "print('Model Train Time:')\n",
    "display(model_train_time)\n",
    "print('Model Prediction Time:')\n",
    "display(model_pred_time)"
   ]
  },
  {
   "cell_type": "markdown",
   "metadata": {},
   "source": [
    "#### With solver ‘sgd’ - a stochastic gradient descent"
   ]
  },
  {
   "cell_type": "code",
   "execution_count": 39,
   "metadata": {},
   "outputs": [
    {
     "name": "stdout",
     "output_type": "stream",
     "text": [
      "MLPRegressor for solver ‘sgd’, computation complete!\n"
     ]
    }
   ],
   "source": [
    "#alphaCD = [0.01, 0.5, 1]\n",
    "alphaCD = [1]\n",
    "MSE_train = []\n",
    "MSE_test = []\n",
    "rsquare = []\n",
    "model_train_time = []\n",
    "model_pred_time = []\n",
    "#hidden_layer_sizes=[10,10],\n",
    "for alpha in alphaCD:\n",
    "    mlpr = MLPRegressor(solver='sgd', random_state=42, alpha=alpha, learning_rate='adaptive', max_iter=400)\n",
    "    start = time.time()\n",
    "    mlpr.fit(X_train_scaled, y_train_scaled)\n",
    "    end = time.time()\n",
    "    model_train_time.append(end-start)\n",
    "    rsquare.append(mlpr.score(X_train_scaled, y_train_scaled))\n",
    "    start = time.time()\n",
    "    pred_weekly_sales_test = reg.predict(X_test_scaled)\n",
    "    end = time.time()\n",
    "    model_pred_time.append(end-start)\n",
    "    pred_weekly_sales_train = reg.predict(X_train_scaled)\n",
    "    MSE_train.append(mean_squared_error(y_train_scaled, pred_weekly_sales_train))\n",
    "    MSE_test.append(mean_squared_error(y_test_scaled, pred_weekly_sales_test))\n",
    "\n",
    "print('MLPRegressor for solver ‘sgd’, computation complete!')"
   ]
  },
  {
   "cell_type": "code",
   "execution_count": 40,
   "metadata": {},
   "outputs": [
    {
     "name": "stdout",
     "output_type": "stream",
     "text": [
      "MSE_train:\n"
     ]
    },
    {
     "data": {
      "text/plain": [
       "[0.3354160329311986]"
      ]
     },
     "metadata": {},
     "output_type": "display_data"
    },
    {
     "name": "stdout",
     "output_type": "stream",
     "text": [
      "MSE_test:\n"
     ]
    },
    {
     "data": {
      "text/plain": [
       "[0.34684924107496856]"
      ]
     },
     "metadata": {},
     "output_type": "display_data"
    },
    {
     "name": "stdout",
     "output_type": "stream",
     "text": [
      "R^2 of the prediction:\n"
     ]
    },
    {
     "data": {
      "text/plain": [
       "[0.9529929550414921]"
      ]
     },
     "metadata": {},
     "output_type": "display_data"
    },
    {
     "name": "stdout",
     "output_type": "stream",
     "text": [
      "Model Train Time:\n"
     ]
    },
    {
     "data": {
      "text/plain": [
       "[123.54168701171875]"
      ]
     },
     "metadata": {},
     "output_type": "display_data"
    },
    {
     "name": "stdout",
     "output_type": "stream",
     "text": [
      "Model Prediction Time:\n"
     ]
    },
    {
     "data": {
      "text/plain": [
       "[0.019252777099609375]"
      ]
     },
     "metadata": {},
     "output_type": "display_data"
    }
   ],
   "source": [
    "print('MSE_train:')\n",
    "display(MSE_train)\n",
    "print('MSE_test:')\n",
    "display(MSE_test)\n",
    "print('R^2 of the prediction:')\n",
    "display(rsquare)\n",
    "print('Model Train Time:')\n",
    "display(model_train_time)\n",
    "print('Model Prediction Time:')\n",
    "display(model_pred_time)"
   ]
  },
  {
   "cell_type": "markdown",
   "metadata": {},
   "source": [
    "#### Discussion on Neural Net Model\n",
    "\n",
    "We used vaious `alpha` values for solver `lbfgs` but that didn't make any difference in terms of the accuracy of prediction. We also tested with various `hidden_layer_sizes` and found out that that didn't have much impact on the accuracy of the predictive model.\n",
    "\n",
    "With solver `sgd` we tried various hyperparameters such as `learning_rate` and `max_iter` we didn't see much difference between `lbfgs` and `sgd` in terms of accuracy but we observed that the model fit execution time was consistently faster for `sgd`.\n"
   ]
  },
  {
   "cell_type": "markdown",
   "metadata": {},
   "source": [
    "### Conclusion"
   ]
  },
  {
   "cell_type": "markdown",
   "metadata": {},
   "source": [
    "#### Comparing the Linear Regression and Neural Net Models\n",
    "\n",
    "Between the Liner model `LinearRegression` and the Neural Net `MLPRegressor` we observed one difference in `R^2` value. The `R^2` value for `MLPRegressor` with either `lbfgs` or `sgd` solver consistently gave grater than `0.94`. However, with the `LinearRegression` the `R^2` value was around `0.66`.\n",
    "\n",
    "Model fit execution time was way less for Linear Regression. We observerd MLPRegressor on average took 50 times more time for model fit computation."
   ]
  }
 ],
 "metadata": {
  "kernelspec": {
   "display_name": "Python 3",
   "language": "python",
   "name": "python3"
  },
  "language_info": {
   "codemirror_mode": {
    "name": "ipython",
    "version": 3
   },
   "file_extension": ".py",
   "mimetype": "text/x-python",
   "name": "python",
   "nbconvert_exporter": "python",
   "pygments_lexer": "ipython3",
   "version": "3.6.5"
  }
 },
 "nbformat": 4,
 "nbformat_minor": 2
}
